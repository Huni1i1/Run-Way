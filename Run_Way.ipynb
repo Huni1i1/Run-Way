{
  "nbformat": 4,
  "nbformat_minor": 0,
  "metadata": {
    "colab": {
      "provenance": [],
      "gpuType": "T4",
      "collapsed_sections": [
        "pbv-E5_S7dfi",
        "yxphQ9sppF6R",
        "vwmZMz3aQO0E",
        "A3OSfdD_TaZJ"
      ],
      "toc_visible": true,
      "authorship_tag": "ABX9TyNPQ/gmhQ1w6beXsjB1zL4F",
      "include_colab_link": true
    },
    "kernelspec": {
      "name": "python3",
      "display_name": "Python 3"
    },
    "language_info": {
      "name": "python"
    },
    "accelerator": "GPU"
  },
  "cells": [
    {
      "cell_type": "markdown",
      "metadata": {
        "id": "view-in-github",
        "colab_type": "text"
      },
      "source": [
        "<a href=\"https://colab.research.google.com/github/Huni1i1/Run-Way/blob/main/Run_Way.ipynb\" target=\"_parent\"><img src=\"https://colab.research.google.com/assets/colab-badge.svg\" alt=\"Open In Colab\"/></a>"
      ]
    },
    {
      "cell_type": "markdown",
      "source": [
        "# Setup"
      ],
      "metadata": {
        "id": "pbv-E5_S7dfi"
      }
    },
    {
      "cell_type": "code",
      "source": [
        "# Check the gpu\n",
        "!nvidia-smi"
      ],
      "metadata": {
        "colab": {
          "base_uri": "https://localhost:8080/"
        },
        "id": "eQmYn0nR9Rwf",
        "outputId": "d07e0f87-f53c-41c2-b3a5-773c511e62e2"
      },
      "execution_count": null,
      "outputs": [
        {
          "output_type": "stream",
          "name": "stdout",
          "text": [
            "Sun Dec  1 06:24:49 2024       \n",
            "+---------------------------------------------------------------------------------------+\n",
            "| NVIDIA-SMI 535.104.05             Driver Version: 535.104.05   CUDA Version: 12.2     |\n",
            "|-----------------------------------------+----------------------+----------------------+\n",
            "| GPU  Name                 Persistence-M | Bus-Id        Disp.A | Volatile Uncorr. ECC |\n",
            "| Fan  Temp   Perf          Pwr:Usage/Cap |         Memory-Usage | GPU-Util  Compute M. |\n",
            "|                                         |                      |               MIG M. |\n",
            "|=========================================+======================+======================|\n",
            "|   0  Tesla T4                       Off | 00000000:00:04.0 Off |                    0 |\n",
            "| N/A   48C    P8               9W /  70W |      0MiB / 15360MiB |      0%      Default |\n",
            "|                                         |                      |                  N/A |\n",
            "+-----------------------------------------+----------------------+----------------------+\n",
            "                                                                                         \n",
            "+---------------------------------------------------------------------------------------+\n",
            "| Processes:                                                                            |\n",
            "|  GPU   GI   CI        PID   Type   Process name                            GPU Memory |\n",
            "|        ID   ID                                                             Usage      |\n",
            "|=======================================================================================|\n",
            "|  No running processes found                                                           |\n",
            "+---------------------------------------------------------------------------------------+\n"
          ]
        }
      ]
    },
    {
      "cell_type": "code",
      "execution_count": null,
      "metadata": {
        "colab": {
          "base_uri": "https://localhost:8080/"
        },
        "id": "-gS_REGF7Z1t",
        "outputId": "b16e5fdb-093c-4986-b61b-0e13fdef3a2c"
      },
      "outputs": [
        {
          "output_type": "stream",
          "name": "stdout",
          "text": [
            "Requirement already satisfied: pyyaml in /usr/local/lib/python3.10/dist-packages (6.0.2)\n",
            "Collecting git+https://github.com/facebookresearch/detectron2.git\n",
            "  Cloning https://github.com/facebookresearch/detectron2.git to /tmp/pip-req-build-mg511lj9\n",
            "  Running command git clone --filter=blob:none --quiet https://github.com/facebookresearch/detectron2.git /tmp/pip-req-build-mg511lj9\n",
            "  Resolved https://github.com/facebookresearch/detectron2.git to commit c69939aa85460e8135f40bce908a6cddaa73065f\n",
            "  Preparing metadata (setup.py) ... \u001b[?25l\u001b[?25hdone\n",
            "Requirement already satisfied: Pillow>=7.1 in /usr/local/lib/python3.10/dist-packages (from detectron2==0.6) (11.0.0)\n",
            "Requirement already satisfied: matplotlib in /usr/local/lib/python3.10/dist-packages (from detectron2==0.6) (3.8.0)\n",
            "Requirement already satisfied: pycocotools>=2.0.2 in /usr/local/lib/python3.10/dist-packages (from detectron2==0.6) (2.0.8)\n",
            "Requirement already satisfied: termcolor>=1.1 in /usr/local/lib/python3.10/dist-packages (from detectron2==0.6) (2.5.0)\n",
            "Collecting yacs>=0.1.8 (from detectron2==0.6)\n",
            "  Downloading yacs-0.1.8-py3-none-any.whl.metadata (639 bytes)\n",
            "Requirement already satisfied: tabulate in /usr/local/lib/python3.10/dist-packages (from detectron2==0.6) (0.9.0)\n",
            "Requirement already satisfied: cloudpickle in /usr/local/lib/python3.10/dist-packages (from detectron2==0.6) (3.1.0)\n",
            "Requirement already satisfied: tqdm>4.29.0 in /usr/local/lib/python3.10/dist-packages (from detectron2==0.6) (4.66.6)\n",
            "Requirement already satisfied: tensorboard in /usr/local/lib/python3.10/dist-packages (from detectron2==0.6) (2.17.1)\n",
            "Collecting fvcore<0.1.6,>=0.1.5 (from detectron2==0.6)\n",
            "  Downloading fvcore-0.1.5.post20221221.tar.gz (50 kB)\n",
            "\u001b[2K     \u001b[90m━━━━━━━━━━━━━━━━━━━━━━━━━━━━━━━━━━━━━━━━\u001b[0m \u001b[32m50.2/50.2 kB\u001b[0m \u001b[31m4.1 MB/s\u001b[0m eta \u001b[36m0:00:00\u001b[0m\n",
            "\u001b[?25h  Preparing metadata (setup.py) ... \u001b[?25l\u001b[?25hdone\n",
            "Collecting iopath<0.1.10,>=0.1.7 (from detectron2==0.6)\n",
            "  Downloading iopath-0.1.9-py3-none-any.whl.metadata (370 bytes)\n",
            "Collecting omegaconf<2.4,>=2.1 (from detectron2==0.6)\n",
            "  Downloading omegaconf-2.3.0-py3-none-any.whl.metadata (3.9 kB)\n",
            "Collecting hydra-core>=1.1 (from detectron2==0.6)\n",
            "  Downloading hydra_core-1.3.2-py3-none-any.whl.metadata (5.5 kB)\n",
            "Collecting black (from detectron2==0.6)\n",
            "  Downloading black-24.10.0-cp310-cp310-manylinux_2_17_x86_64.manylinux2014_x86_64.manylinux_2_28_x86_64.whl.metadata (79 kB)\n",
            "\u001b[2K     \u001b[90m━━━━━━━━━━━━━━━━━━━━━━━━━━━━━━━━━━━━━━━━\u001b[0m \u001b[32m79.2/79.2 kB\u001b[0m \u001b[31m6.0 MB/s\u001b[0m eta \u001b[36m0:00:00\u001b[0m\n",
            "\u001b[?25hRequirement already satisfied: packaging in /usr/local/lib/python3.10/dist-packages (from detectron2==0.6) (24.2)\n",
            "Requirement already satisfied: numpy in /usr/local/lib/python3.10/dist-packages (from fvcore<0.1.6,>=0.1.5->detectron2==0.6) (1.26.4)\n",
            "Requirement already satisfied: pyyaml>=5.1 in /usr/local/lib/python3.10/dist-packages (from fvcore<0.1.6,>=0.1.5->detectron2==0.6) (6.0.2)\n",
            "Collecting antlr4-python3-runtime==4.9.* (from hydra-core>=1.1->detectron2==0.6)\n",
            "  Downloading antlr4-python3-runtime-4.9.3.tar.gz (117 kB)\n",
            "\u001b[2K     \u001b[90m━━━━━━━━━━━━━━━━━━━━━━━━━━━━━━━━━━━━━━━━\u001b[0m \u001b[32m117.0/117.0 kB\u001b[0m \u001b[31m11.4 MB/s\u001b[0m eta \u001b[36m0:00:00\u001b[0m\n",
            "\u001b[?25h  Preparing metadata (setup.py) ... \u001b[?25l\u001b[?25hdone\n",
            "Collecting portalocker (from iopath<0.1.10,>=0.1.7->detectron2==0.6)\n",
            "  Downloading portalocker-3.0.0-py3-none-any.whl.metadata (8.5 kB)\n",
            "Requirement already satisfied: contourpy>=1.0.1 in /usr/local/lib/python3.10/dist-packages (from matplotlib->detectron2==0.6) (1.3.1)\n",
            "Requirement already satisfied: cycler>=0.10 in /usr/local/lib/python3.10/dist-packages (from matplotlib->detectron2==0.6) (0.12.1)\n",
            "Requirement already satisfied: fonttools>=4.22.0 in /usr/local/lib/python3.10/dist-packages (from matplotlib->detectron2==0.6) (4.55.0)\n",
            "Requirement already satisfied: kiwisolver>=1.0.1 in /usr/local/lib/python3.10/dist-packages (from matplotlib->detectron2==0.6) (1.4.7)\n",
            "Requirement already satisfied: pyparsing>=2.3.1 in /usr/local/lib/python3.10/dist-packages (from matplotlib->detectron2==0.6) (3.2.0)\n",
            "Requirement already satisfied: python-dateutil>=2.7 in /usr/local/lib/python3.10/dist-packages (from matplotlib->detectron2==0.6) (2.8.2)\n",
            "Requirement already satisfied: click>=8.0.0 in /usr/local/lib/python3.10/dist-packages (from black->detectron2==0.6) (8.1.7)\n",
            "Collecting mypy-extensions>=0.4.3 (from black->detectron2==0.6)\n",
            "  Downloading mypy_extensions-1.0.0-py3-none-any.whl.metadata (1.1 kB)\n",
            "Collecting pathspec>=0.9.0 (from black->detectron2==0.6)\n",
            "  Downloading pathspec-0.12.1-py3-none-any.whl.metadata (21 kB)\n",
            "Requirement already satisfied: platformdirs>=2 in /usr/local/lib/python3.10/dist-packages (from black->detectron2==0.6) (4.3.6)\n",
            "Requirement already satisfied: tomli>=1.1.0 in /usr/local/lib/python3.10/dist-packages (from black->detectron2==0.6) (2.1.0)\n",
            "Requirement already satisfied: typing-extensions>=4.0.1 in /usr/local/lib/python3.10/dist-packages (from black->detectron2==0.6) (4.12.2)\n",
            "Requirement already satisfied: absl-py>=0.4 in /usr/local/lib/python3.10/dist-packages (from tensorboard->detectron2==0.6) (1.4.0)\n",
            "Requirement already satisfied: grpcio>=1.48.2 in /usr/local/lib/python3.10/dist-packages (from tensorboard->detectron2==0.6) (1.68.0)\n",
            "Requirement already satisfied: markdown>=2.6.8 in /usr/local/lib/python3.10/dist-packages (from tensorboard->detectron2==0.6) (3.7)\n",
            "Requirement already satisfied: protobuf!=4.24.0,>=3.19.6 in /usr/local/lib/python3.10/dist-packages (from tensorboard->detectron2==0.6) (4.25.5)\n",
            "Requirement already satisfied: setuptools>=41.0.0 in /usr/local/lib/python3.10/dist-packages (from tensorboard->detectron2==0.6) (75.1.0)\n",
            "Requirement already satisfied: six>1.9 in /usr/local/lib/python3.10/dist-packages (from tensorboard->detectron2==0.6) (1.16.0)\n",
            "Requirement already satisfied: tensorboard-data-server<0.8.0,>=0.7.0 in /usr/local/lib/python3.10/dist-packages (from tensorboard->detectron2==0.6) (0.7.2)\n",
            "Requirement already satisfied: werkzeug>=1.0.1 in /usr/local/lib/python3.10/dist-packages (from tensorboard->detectron2==0.6) (3.1.3)\n",
            "Requirement already satisfied: MarkupSafe>=2.1.1 in /usr/local/lib/python3.10/dist-packages (from werkzeug>=1.0.1->tensorboard->detectron2==0.6) (3.0.2)\n",
            "Downloading hydra_core-1.3.2-py3-none-any.whl (154 kB)\n",
            "\u001b[2K   \u001b[90m━━━━━━━━━━━━━━━━━━━━━━━━━━━━━━━━━━━━━━━━\u001b[0m \u001b[32m154.5/154.5 kB\u001b[0m \u001b[31m14.5 MB/s\u001b[0m eta \u001b[36m0:00:00\u001b[0m\n",
            "\u001b[?25hDownloading iopath-0.1.9-py3-none-any.whl (27 kB)\n",
            "Downloading omegaconf-2.3.0-py3-none-any.whl (79 kB)\n",
            "\u001b[2K   \u001b[90m━━━━━━━━━━━━━━━━━━━━━━━━━━━━━━━━━━━━━━━━\u001b[0m \u001b[32m79.5/79.5 kB\u001b[0m \u001b[31m8.2 MB/s\u001b[0m eta \u001b[36m0:00:00\u001b[0m\n",
            "\u001b[?25hDownloading yacs-0.1.8-py3-none-any.whl (14 kB)\n",
            "Downloading black-24.10.0-cp310-cp310-manylinux_2_17_x86_64.manylinux2014_x86_64.manylinux_2_28_x86_64.whl (1.8 MB)\n",
            "\u001b[2K   \u001b[90m━━━━━━━━━━━━━━━━━━━━━━━━━━━━━━━━━━━━━━━━\u001b[0m \u001b[32m1.8/1.8 MB\u001b[0m \u001b[31m63.3 MB/s\u001b[0m eta \u001b[36m0:00:00\u001b[0m\n",
            "\u001b[?25hDownloading mypy_extensions-1.0.0-py3-none-any.whl (4.7 kB)\n",
            "Downloading pathspec-0.12.1-py3-none-any.whl (31 kB)\n",
            "Downloading portalocker-3.0.0-py3-none-any.whl (19 kB)\n",
            "Building wheels for collected packages: detectron2, fvcore, antlr4-python3-runtime\n",
            "  Building wheel for detectron2 (setup.py) ... \u001b[?25l\u001b[?25hdone\n",
            "  Created wheel for detectron2: filename=detectron2-0.6-cp310-cp310-linux_x86_64.whl size=6355065 sha256=bda72f687065ed8b3e4e699a96eb61b5ebd88a9f1db1694caff7522176a8a66f\n",
            "  Stored in directory: /tmp/pip-ephem-wheel-cache-fy_xmqzj/wheels/47/e5/15/94c80df2ba85500c5d76599cc307c0a7079d0e221bb6fc4375\n",
            "  Building wheel for fvcore (setup.py) ... \u001b[?25l\u001b[?25hdone\n",
            "  Created wheel for fvcore: filename=fvcore-0.1.5.post20221221-py3-none-any.whl size=61396 sha256=31f38cd1eae7ed8ed24c877e06a0b6c30155f7570881687e53929714cda15d02\n",
            "  Stored in directory: /root/.cache/pip/wheels/01/c0/af/77c1cf53a1be9e42a52b48e5af2169d40ec2e89f7362489dd0\n",
            "  Building wheel for antlr4-python3-runtime (setup.py) ... \u001b[?25l\u001b[?25hdone\n",
            "  Created wheel for antlr4-python3-runtime: filename=antlr4_python3_runtime-4.9.3-py3-none-any.whl size=144555 sha256=926d65daaeeec911ddc54c6f524699004d1c09fe76ec66cd068689d3ddaa6dc4\n",
            "  Stored in directory: /root/.cache/pip/wheels/12/93/dd/1f6a127edc45659556564c5730f6d4e300888f4bca2d4c5a88\n",
            "Successfully built detectron2 fvcore antlr4-python3-runtime\n",
            "Installing collected packages: antlr4-python3-runtime, yacs, portalocker, pathspec, omegaconf, mypy-extensions, iopath, hydra-core, black, fvcore, detectron2\n",
            "Successfully installed antlr4-python3-runtime-4.9.3 black-24.10.0 detectron2-0.6 fvcore-0.1.5.post20221221 hydra-core-1.3.2 iopath-0.1.9 mypy-extensions-1.0.0 omegaconf-2.3.0 pathspec-0.12.1 portalocker-3.0.0 yacs-0.1.8\n"
          ]
        }
      ],
      "source": [
        "# Install Detectron2\n",
        "!pip3 install -q torch\n",
        "!pip3 install -q torchvision\n",
        "!pip3 install pyyaml\n",
        "!python -m pip install 'git+https://github.com/facebookresearch/detectron2.git'"
      ]
    },
    {
      "cell_type": "code",
      "source": [
        "# Check the version\n",
        "import torch, detectron2, os\n",
        "!nvcc --version\n",
        "TORCH_VERSION = \".\".join(torch.__version__.split(\".\")[:2])\n",
        "CUDA_VERSION = torch.__version__.split(\"+\")[-1]\n",
        "print(\"torch: \", TORCH_VERSION, \"; cuda: \", CUDA_VERSION)\n",
        "print(\"detectron2:\", detectron2.__version__)"
      ],
      "metadata": {
        "colab": {
          "base_uri": "https://localhost:8080/"
        },
        "id": "wArwVoCm7jNV",
        "outputId": "638660dd-0a11-4ab0-81ff-e71e39efa882"
      },
      "execution_count": null,
      "outputs": [
        {
          "output_type": "stream",
          "name": "stdout",
          "text": [
            "nvcc: NVIDIA (R) Cuda compiler driver\n",
            "Copyright (c) 2005-2023 NVIDIA Corporation\n",
            "Built on Tue_Aug_15_22:02:13_PDT_2023\n",
            "Cuda compilation tools, release 12.2, V12.2.140\n",
            "Build cuda_12.2.r12.2/compiler.33191640_0\n",
            "torch:  2.5 ; cuda:  cu121\n",
            "detectron2: 0.6\n"
          ]
        }
      ]
    },
    {
      "cell_type": "code",
      "source": [
        "# Clone VideoPose3D\n",
        "import os\n",
        "\n",
        "os.chdir('/content')\n",
        "!git clone https://github.com/facebookresearch/VideoPose3D"
      ],
      "metadata": {
        "colab": {
          "base_uri": "https://localhost:8080/"
        },
        "id": "MT8lTN-m9u9x",
        "outputId": "94e9632d-cf89-4f97-aaa9-144ad0ee6b47"
      },
      "execution_count": null,
      "outputs": [
        {
          "output_type": "stream",
          "name": "stdout",
          "text": [
            "Cloning into 'VideoPose3D'...\n",
            "remote: Enumerating objects: 121, done.\u001b[K\n",
            "remote: Total 121 (delta 0), reused 0 (delta 0), pack-reused 121 (from 1)\u001b[K\n",
            "Receiving objects: 100% (121/121), 9.53 MiB | 14.90 MiB/s, done.\n",
            "Resolving deltas: 100% (41/41), done.\n"
          ]
        }
      ]
    },
    {
      "cell_type": "code",
      "source": [
        "# Change infer_video_d2.py and run.py\n",
        "import shutil\n",
        "\n",
        "os.chdir('/content')\n",
        "!git clone https://github.com/Huni1i1/RPC_requirements\n",
        "shutil.move('/content/RPC_requirements/infer_video_d2.py', '/content/VideoPose3D/inference/infer_video_d2.py')\n",
        "shutil.move('/content/RPC_requirements/run.py', '/content/VideoPose3D/run.py')"
      ],
      "metadata": {
        "colab": {
          "base_uri": "https://localhost:8080/"
        },
        "id": "raJ_bMfU9wYc",
        "outputId": "9233acad-3324-4d5a-d616-844393576e91"
      },
      "execution_count": null,
      "outputs": [
        {
          "output_type": "stream",
          "name": "stdout",
          "text": [
            "Cloning into 'RPC_requirements'...\n",
            "remote: Enumerating objects: 117, done.\u001b[K\n",
            "remote: Counting objects: 100% (117/117), done.\u001b[K\n",
            "remote: Compressing objects: 100% (108/108), done.\u001b[K\n",
            "remote: Total 117 (delta 19), reused 0 (delta 0), pack-reused 0 (from 0)\u001b[K\n",
            "Receiving objects: 100% (117/117), 1.11 MiB | 4.95 MiB/s, done.\n",
            "Resolving deltas: 100% (19/19), done.\n"
          ]
        },
        {
          "output_type": "execute_result",
          "data": {
            "text/plain": [
              "'/content/VideoPose3D/run.py'"
            ],
            "application/vnd.google.colaboratory.intrinsic+json": {
              "type": "string"
            }
          },
          "metadata": {},
          "execution_count": 5
        }
      ]
    },
    {
      "cell_type": "code",
      "source": [
        "# Download pre-trained model\n",
        "os.makedirs('/content/VideoPose3D/checkpoint', exist_ok = True)\n",
        "!wget https://dl.fbaipublicfiles.com/video-pose-3d/pretrained_h36m_detectron_coco.bin -P /content/VideoPose3D/checkpoint"
      ],
      "metadata": {
        "id": "0dI2inHl-En0",
        "colab": {
          "base_uri": "https://localhost:8080/"
        },
        "outputId": "9fd0e998-e777-48b2-e635-529942b7383b"
      },
      "execution_count": null,
      "outputs": [
        {
          "output_type": "stream",
          "name": "stdout",
          "text": [
            "--2024-12-01 06:30:08--  https://dl.fbaipublicfiles.com/video-pose-3d/pretrained_h36m_detectron_coco.bin\n",
            "Resolving dl.fbaipublicfiles.com (dl.fbaipublicfiles.com)... 13.227.219.10, 13.227.219.33, 13.227.219.59, ...\n",
            "Connecting to dl.fbaipublicfiles.com (dl.fbaipublicfiles.com)|13.227.219.10|:443... connected.\n",
            "HTTP request sent, awaiting response... 200 OK\n",
            "Length: 67892577 (65M) [application/octet-stream]\n",
            "Saving to: ‘/content/VideoPose3D/checkpoint/pretrained_h36m_detectron_coco.bin’\n",
            "\n",
            "pretrained_h36m_det 100%[===================>]  64.75M  19.5MB/s    in 3.3s    \n",
            "\n",
            "2024-12-01 06:30:12 (19.5 MB/s) - ‘/content/VideoPose3D/checkpoint/pretrained_h36m_detectron_coco.bin’ saved [67892577/67892577]\n",
            "\n"
          ]
        }
      ]
    },
    {
      "cell_type": "code",
      "source": [
        "# Install Scikit-Learn\n",
        "!pip install scikit-learn"
      ],
      "metadata": {
        "id": "-aCVEZmLhfK9",
        "colab": {
          "base_uri": "https://localhost:8080/"
        },
        "outputId": "2ff6da8f-6a85-4541-ad29-322fa99fd14c"
      },
      "execution_count": null,
      "outputs": [
        {
          "output_type": "stream",
          "name": "stdout",
          "text": [
            "Requirement already satisfied: scikit-learn in /usr/local/lib/python3.10/dist-packages (1.5.2)\n",
            "Requirement already satisfied: numpy>=1.19.5 in /usr/local/lib/python3.10/dist-packages (from scikit-learn) (1.26.4)\n",
            "Requirement already satisfied: scipy>=1.6.0 in /usr/local/lib/python3.10/dist-packages (from scikit-learn) (1.13.1)\n",
            "Requirement already satisfied: joblib>=1.2.0 in /usr/local/lib/python3.10/dist-packages (from scikit-learn) (1.4.2)\n",
            "Requirement already satisfied: threadpoolctl>=3.1.0 in /usr/local/lib/python3.10/dist-packages (from scikit-learn) (3.5.0)\n"
          ]
        }
      ]
    },
    {
      "cell_type": "markdown",
      "source": [
        "# Dataset"
      ],
      "metadata": {
        "id": "qGj_DEv3-H3q"
      }
    },
    {
      "cell_type": "code",
      "source": [
        "# Mount Google Drive\n",
        "from google.colab import drive\n",
        "drive.mount('/content/drive')"
      ],
      "metadata": {
        "colab": {
          "base_uri": "https://localhost:8080/"
        },
        "id": "wyv4Zcd6qJmo",
        "outputId": "19b544e4-1af2-4d01-baa0-21c011d49481"
      },
      "execution_count": null,
      "outputs": [
        {
          "output_type": "stream",
          "name": "stdout",
          "text": [
            "Mounted at /content/drive\n"
          ]
        }
      ]
    },
    {
      "cell_type": "code",
      "source": [
        "os.makedirs('/content/drive/MyDrive/CapstoneDesign/train/videos', exist_ok = True)\n",
        "os.makedirs('/content/drive/MyDrive/CapstoneDesign/train/Det2', exist_ok = True)\n",
        "os.makedirs('/content/drive/MyDrive/CapstoneDesign/train/VP3D_joint', exist_ok = True)\n",
        "os.makedirs('/content/drive/MyDrive/CapstoneDesign/train/VP3D_render', exist_ok = True)\n",
        "os.makedirs('/content/drive/MyDrive/CapstoneDesign/train/angles', exist_ok = True)\n",
        "os.makedirs('/content/drive/MyDrive/CapstoneDesign/train/labels', exist_ok = True)\n",
        "os.makedirs('/content/drive/MyDrive/CapstoneDesign/train/checkpoint', exist_ok = True)"
      ],
      "metadata": {
        "id": "20uBMnhdq_n2"
      },
      "execution_count": null,
      "outputs": []
    },
    {
      "cell_type": "code",
      "source": [
        "ORIGINAL_VIDEOS = '/content/drive/MyDrive/CapstoneDesign/train/original_videos'\n",
        "\n",
        "VIDEOS = '/content/drive/MyDrive/CapstoneDesign/train/videos'\n",
        "DET2 = '/content/drive/MyDrive/CapstoneDesign/train/Det2'\n",
        "VP3D_JOINT = '/content/drive/MyDrive/CapstoneDesign/train/VP3D_joint'\n",
        "VP3D_RENDER = '/content/drive/MyDrive/CapstoneDesign/train/VP3D_render'\n",
        "ANGLES = '/content/drive/MyDrive/CapstoneDesign/train/angles'\n",
        "LABELS = '/content/drive/MyDrive/CapstoneDesign/train/labels'\n",
        "CHECKPOINT = '/content/drive/MyDrive/CapstoneDesign/train/checkpoint'"
      ],
      "metadata": {
        "id": "on9SWz5MMjzk"
      },
      "execution_count": null,
      "outputs": []
    },
    {
      "cell_type": "code",
      "source": [
        "# # Crop videos to square\n",
        "# import os\n",
        "# import glob\n",
        "# import subprocess\n",
        "\n",
        "# def crop_video_to_square(input_folder, output_folder):\n",
        "#     video_files = sorted(glob.glob(os.path.join(input_folder, '*.mp4')))\n",
        "\n",
        "#     for input_video_path in video_files:\n",
        "#         output_video_path = os.path.join(output_folder, os.path.basename(input_video_path))\n",
        "\n",
        "#         print(f\"Cropping video: {input_video_path} -> {output_video_path}\")\n",
        "\n",
        "#         command = [\n",
        "#         'ffmpeg', '-i', input_video_path,\n",
        "#         '-vf', 'crop=min(in_w\\,in_h):min(in_w\\,in_h)',\n",
        "#         '-c:a', 'copy',\n",
        "#         output_video_path\n",
        "#         ]\n",
        "\n",
        "#         subprocess.run(command)\n",
        "\n",
        "#     print(f\"All videos have been cropped and saved in {output_folder}.\")\n",
        "\n",
        "# crop_video_to_square(ORIGINAL_VIDEOS, VIDEOS)"
      ],
      "metadata": {
        "colab": {
          "base_uri": "https://localhost:8080/"
        },
        "id": "BzOZQ79IvrHo",
        "outputId": "3a3874db-0787-4568-ffee-5dd0a693ed0a"
      },
      "execution_count": null,
      "outputs": [
        {
          "output_type": "stream",
          "name": "stdout",
          "text": [
            "Cropping video: /content/drive/MyDrive/dataset/original_videos/1_0.mp4 -> /content/data/videos/1_0.mp4\n",
            "Cropping video: /content/drive/MyDrive/dataset/original_videos/1_1.mp4 -> /content/data/videos/1_1.mp4\n",
            "Cropping video: /content/drive/MyDrive/dataset/original_videos/2_0.mp4 -> /content/data/videos/2_0.mp4\n",
            "Cropping video: /content/drive/MyDrive/dataset/original_videos/2_1.mp4 -> /content/data/videos/2_1.mp4\n",
            "All videos have been cropped and saved in 'VIDEOS'.\n"
          ]
        }
      ]
    },
    {
      "cell_type": "code",
      "source": [
        "# Resample videos to 50fps\n",
        "import os\n",
        "import glob\n",
        "import subprocess\n",
        "\n",
        "def resample_videos_to_50fps(input_folder, output_folder):\n",
        "    video_files = sorted(glob.glob(os.path.join(input_folder, '*.mp4')))\n",
        "\n",
        "    for input_video_path in video_files:\n",
        "        output_video_path = os.path.join(output_folder, os.path.basename(input_video_path))\n",
        "\n",
        "        print(f\"Resample video to 50fps: {input_video_path} -> {output_video_path}\")\n",
        "\n",
        "        command = [\n",
        "            \"ffmpeg\",\n",
        "            \"-i\", input_video_path,\n",
        "            \"-filter:v\", \"fps=fps=50\",\n",
        "            \"-c:a\", \"copy\",\n",
        "            output_video_path\n",
        "        ]\n",
        "\n",
        "        subprocess.run(command, check=True)\n",
        "\n",
        "    print(f\"All videos have been resampled and saved in {output_folder}.\")\n",
        "\n",
        "resample_videos_to_50fps(ORIGINAL_VIDEOS, VIDEOS)"
      ],
      "metadata": {
        "colab": {
          "base_uri": "https://localhost:8080/"
        },
        "id": "SWQyHNaQnURo",
        "outputId": "b4550b9b-2dc1-496c-a1c5-46c4bd2c9140"
      },
      "execution_count": null,
      "outputs": [
        {
          "output_type": "stream",
          "name": "stdout",
          "text": [
            "Resample video to 50fps: /content/drive/MyDrive/CapstoneDesign/train/original_videos/0_00.mp4 -> /content/drive/MyDrive/CapstoneDesign/train/videos/0_00.mp4\n",
            "Resample video to 50fps: /content/drive/MyDrive/CapstoneDesign/train/original_videos/0_01.mp4 -> /content/drive/MyDrive/CapstoneDesign/train/videos/0_01.mp4\n",
            "Resample video to 50fps: /content/drive/MyDrive/CapstoneDesign/train/original_videos/0_02.mp4 -> /content/drive/MyDrive/CapstoneDesign/train/videos/0_02.mp4\n",
            "Resample video to 50fps: /content/drive/MyDrive/CapstoneDesign/train/original_videos/0_03.mp4 -> /content/drive/MyDrive/CapstoneDesign/train/videos/0_03.mp4\n",
            "Resample video to 50fps: /content/drive/MyDrive/CapstoneDesign/train/original_videos/0_04.mp4 -> /content/drive/MyDrive/CapstoneDesign/train/videos/0_04.mp4\n",
            "Resample video to 50fps: /content/drive/MyDrive/CapstoneDesign/train/original_videos/0_05.mp4 -> /content/drive/MyDrive/CapstoneDesign/train/videos/0_05.mp4\n",
            "Resample video to 50fps: /content/drive/MyDrive/CapstoneDesign/train/original_videos/0_06.mp4 -> /content/drive/MyDrive/CapstoneDesign/train/videos/0_06.mp4\n",
            "Resample video to 50fps: /content/drive/MyDrive/CapstoneDesign/train/original_videos/0_07.mp4 -> /content/drive/MyDrive/CapstoneDesign/train/videos/0_07.mp4\n",
            "Resample video to 50fps: /content/drive/MyDrive/CapstoneDesign/train/original_videos/0_08.mp4 -> /content/drive/MyDrive/CapstoneDesign/train/videos/0_08.mp4\n",
            "Resample video to 50fps: /content/drive/MyDrive/CapstoneDesign/train/original_videos/0_09.mp4 -> /content/drive/MyDrive/CapstoneDesign/train/videos/0_09.mp4\n",
            "Resample video to 50fps: /content/drive/MyDrive/CapstoneDesign/train/original_videos/0_10.mp4 -> /content/drive/MyDrive/CapstoneDesign/train/videos/0_10.mp4\n",
            "Resample video to 50fps: /content/drive/MyDrive/CapstoneDesign/train/original_videos/0_11.mp4 -> /content/drive/MyDrive/CapstoneDesign/train/videos/0_11.mp4\n",
            "Resample video to 50fps: /content/drive/MyDrive/CapstoneDesign/train/original_videos/0_12.mp4 -> /content/drive/MyDrive/CapstoneDesign/train/videos/0_12.mp4\n",
            "Resample video to 50fps: /content/drive/MyDrive/CapstoneDesign/train/original_videos/0_13.mp4 -> /content/drive/MyDrive/CapstoneDesign/train/videos/0_13.mp4\n",
            "Resample video to 50fps: /content/drive/MyDrive/CapstoneDesign/train/original_videos/0_14.mp4 -> /content/drive/MyDrive/CapstoneDesign/train/videos/0_14.mp4\n",
            "Resample video to 50fps: /content/drive/MyDrive/CapstoneDesign/train/original_videos/0_15.mp4 -> /content/drive/MyDrive/CapstoneDesign/train/videos/0_15.mp4\n",
            "Resample video to 50fps: /content/drive/MyDrive/CapstoneDesign/train/original_videos/1_00.mp4 -> /content/drive/MyDrive/CapstoneDesign/train/videos/1_00.mp4\n",
            "Resample video to 50fps: /content/drive/MyDrive/CapstoneDesign/train/original_videos/1_01.mp4 -> /content/drive/MyDrive/CapstoneDesign/train/videos/1_01.mp4\n",
            "Resample video to 50fps: /content/drive/MyDrive/CapstoneDesign/train/original_videos/1_02.mp4 -> /content/drive/MyDrive/CapstoneDesign/train/videos/1_02.mp4\n",
            "Resample video to 50fps: /content/drive/MyDrive/CapstoneDesign/train/original_videos/1_03.mp4 -> /content/drive/MyDrive/CapstoneDesign/train/videos/1_03.mp4\n",
            "Resample video to 50fps: /content/drive/MyDrive/CapstoneDesign/train/original_videos/1_04.mp4 -> /content/drive/MyDrive/CapstoneDesign/train/videos/1_04.mp4\n",
            "Resample video to 50fps: /content/drive/MyDrive/CapstoneDesign/train/original_videos/1_05.mp4 -> /content/drive/MyDrive/CapstoneDesign/train/videos/1_05.mp4\n",
            "Resample video to 50fps: /content/drive/MyDrive/CapstoneDesign/train/original_videos/1_06.mp4 -> /content/drive/MyDrive/CapstoneDesign/train/videos/1_06.mp4\n",
            "Resample video to 50fps: /content/drive/MyDrive/CapstoneDesign/train/original_videos/1_07.mp4 -> /content/drive/MyDrive/CapstoneDesign/train/videos/1_07.mp4\n",
            "Resample video to 50fps: /content/drive/MyDrive/CapstoneDesign/train/original_videos/1_08.mp4 -> /content/drive/MyDrive/CapstoneDesign/train/videos/1_08.mp4\n",
            "Resample video to 50fps: /content/drive/MyDrive/CapstoneDesign/train/original_videos/1_09.mp4 -> /content/drive/MyDrive/CapstoneDesign/train/videos/1_09.mp4\n",
            "Resample video to 50fps: /content/drive/MyDrive/CapstoneDesign/train/original_videos/1_10.mp4 -> /content/drive/MyDrive/CapstoneDesign/train/videos/1_10.mp4\n",
            "Resample video to 50fps: /content/drive/MyDrive/CapstoneDesign/train/original_videos/1_11.mp4 -> /content/drive/MyDrive/CapstoneDesign/train/videos/1_11.mp4\n",
            "Resample video to 50fps: /content/drive/MyDrive/CapstoneDesign/train/original_videos/1_12.mp4 -> /content/drive/MyDrive/CapstoneDesign/train/videos/1_12.mp4\n",
            "Resample video to 50fps: /content/drive/MyDrive/CapstoneDesign/train/original_videos/1_13.mp4 -> /content/drive/MyDrive/CapstoneDesign/train/videos/1_13.mp4\n",
            "Resample video to 50fps: /content/drive/MyDrive/CapstoneDesign/train/original_videos/1_14.mp4 -> /content/drive/MyDrive/CapstoneDesign/train/videos/1_14.mp4\n",
            "Resample video to 50fps: /content/drive/MyDrive/CapstoneDesign/train/original_videos/2_00.mp4 -> /content/drive/MyDrive/CapstoneDesign/train/videos/2_00.mp4\n",
            "Resample video to 50fps: /content/drive/MyDrive/CapstoneDesign/train/original_videos/2_01.mp4 -> /content/drive/MyDrive/CapstoneDesign/train/videos/2_01.mp4\n",
            "Resample video to 50fps: /content/drive/MyDrive/CapstoneDesign/train/original_videos/2_02.mp4 -> /content/drive/MyDrive/CapstoneDesign/train/videos/2_02.mp4\n",
            "Resample video to 50fps: /content/drive/MyDrive/CapstoneDesign/train/original_videos/2_03.mp4 -> /content/drive/MyDrive/CapstoneDesign/train/videos/2_03.mp4\n",
            "Resample video to 50fps: /content/drive/MyDrive/CapstoneDesign/train/original_videos/2_04.mp4 -> /content/drive/MyDrive/CapstoneDesign/train/videos/2_04.mp4\n",
            "Resample video to 50fps: /content/drive/MyDrive/CapstoneDesign/train/original_videos/2_05.mp4 -> /content/drive/MyDrive/CapstoneDesign/train/videos/2_05.mp4\n",
            "Resample video to 50fps: /content/drive/MyDrive/CapstoneDesign/train/original_videos/2_06.mp4 -> /content/drive/MyDrive/CapstoneDesign/train/videos/2_06.mp4\n",
            "Resample video to 50fps: /content/drive/MyDrive/CapstoneDesign/train/original_videos/2_07.mp4 -> /content/drive/MyDrive/CapstoneDesign/train/videos/2_07.mp4\n",
            "Resample video to 50fps: /content/drive/MyDrive/CapstoneDesign/train/original_videos/2_08.mp4 -> /content/drive/MyDrive/CapstoneDesign/train/videos/2_08.mp4\n",
            "Resample video to 50fps: /content/drive/MyDrive/CapstoneDesign/train/original_videos/2_09.mp4 -> /content/drive/MyDrive/CapstoneDesign/train/videos/2_09.mp4\n",
            "Resample video to 50fps: /content/drive/MyDrive/CapstoneDesign/train/original_videos/2_10.mp4 -> /content/drive/MyDrive/CapstoneDesign/train/videos/2_10.mp4\n",
            "Resample video to 50fps: /content/drive/MyDrive/CapstoneDesign/train/original_videos/2_11.mp4 -> /content/drive/MyDrive/CapstoneDesign/train/videos/2_11.mp4\n",
            "Resample video to 50fps: /content/drive/MyDrive/CapstoneDesign/train/original_videos/2_12.mp4 -> /content/drive/MyDrive/CapstoneDesign/train/videos/2_12.mp4\n",
            "Resample video to 50fps: /content/drive/MyDrive/CapstoneDesign/train/original_videos/2_13.mp4 -> /content/drive/MyDrive/CapstoneDesign/train/videos/2_13.mp4\n",
            "Resample video to 50fps: /content/drive/MyDrive/CapstoneDesign/train/original_videos/2_14.mp4 -> /content/drive/MyDrive/CapstoneDesign/train/videos/2_14.mp4\n",
            "Resample video to 50fps: /content/drive/MyDrive/CapstoneDesign/train/original_videos/2_15.mp4 -> /content/drive/MyDrive/CapstoneDesign/train/videos/2_15.mp4\n",
            "Resample video to 50fps: /content/drive/MyDrive/CapstoneDesign/train/original_videos/3_00.mp4 -> /content/drive/MyDrive/CapstoneDesign/train/videos/3_00.mp4\n",
            "Resample video to 50fps: /content/drive/MyDrive/CapstoneDesign/train/original_videos/3_01.mp4 -> /content/drive/MyDrive/CapstoneDesign/train/videos/3_01.mp4\n",
            "Resample video to 50fps: /content/drive/MyDrive/CapstoneDesign/train/original_videos/3_02.mp4 -> /content/drive/MyDrive/CapstoneDesign/train/videos/3_02.mp4\n",
            "Resample video to 50fps: /content/drive/MyDrive/CapstoneDesign/train/original_videos/3_03.mp4 -> /content/drive/MyDrive/CapstoneDesign/train/videos/3_03.mp4\n",
            "Resample video to 50fps: /content/drive/MyDrive/CapstoneDesign/train/original_videos/3_04.mp4 -> /content/drive/MyDrive/CapstoneDesign/train/videos/3_04.mp4\n",
            "Resample video to 50fps: /content/drive/MyDrive/CapstoneDesign/train/original_videos/3_05.mp4 -> /content/drive/MyDrive/CapstoneDesign/train/videos/3_05.mp4\n",
            "Resample video to 50fps: /content/drive/MyDrive/CapstoneDesign/train/original_videos/3_06.mp4 -> /content/drive/MyDrive/CapstoneDesign/train/videos/3_06.mp4\n",
            "Resample video to 50fps: /content/drive/MyDrive/CapstoneDesign/train/original_videos/3_07.mp4 -> /content/drive/MyDrive/CapstoneDesign/train/videos/3_07.mp4\n",
            "Resample video to 50fps: /content/drive/MyDrive/CapstoneDesign/train/original_videos/3_08.mp4 -> /content/drive/MyDrive/CapstoneDesign/train/videos/3_08.mp4\n",
            "Resample video to 50fps: /content/drive/MyDrive/CapstoneDesign/train/original_videos/3_09.mp4 -> /content/drive/MyDrive/CapstoneDesign/train/videos/3_09.mp4\n",
            "Resample video to 50fps: /content/drive/MyDrive/CapstoneDesign/train/original_videos/3_10.mp4 -> /content/drive/MyDrive/CapstoneDesign/train/videos/3_10.mp4\n",
            "Resample video to 50fps: /content/drive/MyDrive/CapstoneDesign/train/original_videos/3_11.mp4 -> /content/drive/MyDrive/CapstoneDesign/train/videos/3_11.mp4\n",
            "Resample video to 50fps: /content/drive/MyDrive/CapstoneDesign/train/original_videos/3_12.mp4 -> /content/drive/MyDrive/CapstoneDesign/train/videos/3_12.mp4\n",
            "Resample video to 50fps: /content/drive/MyDrive/CapstoneDesign/train/original_videos/3_13.mp4 -> /content/drive/MyDrive/CapstoneDesign/train/videos/3_13.mp4\n",
            "Resample video to 50fps: /content/drive/MyDrive/CapstoneDesign/train/original_videos/3_14.mp4 -> /content/drive/MyDrive/CapstoneDesign/train/videos/3_14.mp4\n",
            "Resample video to 50fps: /content/drive/MyDrive/CapstoneDesign/train/original_videos/3_15.mp4 -> /content/drive/MyDrive/CapstoneDesign/train/videos/3_15.mp4\n",
            "All videos have been resampled and saved in /content/drive/MyDrive/CapstoneDesign/train/videos.\n"
          ]
        }
      ]
    },
    {
      "cell_type": "markdown",
      "source": [
        "# Infer 2D Keypoints"
      ],
      "metadata": {
        "id": "yxphQ9sppF6R"
      }
    },
    {
      "cell_type": "code",
      "source": [
        "# Infer 2D keypoints with Detectron2 and prepare custom dataset\n",
        "def infer_Det2_and_prepare_dataset(video_folder, output_folder):\n",
        "    mp4_files = sorted(glob.glob(os.path.join(video_folder, '*.mp4')))\n",
        "\n",
        "    for mp4_file in mp4_files:\n",
        "        print(f\"Inferring 2D keypoints of {mp4_file}\")\n",
        "\n",
        "        os.chdir('/content/VideoPose3D/inference')\n",
        "        subprocess.run(['python', 'infer_video_d2.py',\n",
        "                        '--cfg', 'COCO-Keypoints/keypoint_rcnn_R_101_FPN_3x.yaml',\n",
        "                        '--output-dir', output_folder,\n",
        "                        '--image-ext', 'mp4',\n",
        "                        mp4_file])\n",
        "\n",
        "        os.chdir('/content/VideoPose3D/data')\n",
        "        subprocess.run(['python', 'prepare_data_2d_custom.py',\n",
        "                        '-i', output_folder,\n",
        "                        '-o', os.path.splitext(os.path.basename(mp4_file))[0]])\n",
        "\n",
        "        for npz_file in glob.glob(os.path.join(output_folder, '*.npz')):\n",
        "          os.remove(npz_file)\n",
        "\n",
        "infer_Det2_and_prepare_dataset(VIDEOS, DET2)"
      ],
      "metadata": {
        "colab": {
          "base_uri": "https://localhost:8080/"
        },
        "id": "pzO-Mgw9pCIR",
        "outputId": "79b3b5a5-1727-424b-ba24-dd57c2bc5a7e"
      },
      "execution_count": null,
      "outputs": [
        {
          "output_type": "stream",
          "name": "stdout",
          "text": [
            "Inferring 2D keypoints of /content/drive/MyDrive/CapstoneDesign/train/videos/0_00.mp4\n",
            "Inferring 2D keypoints of /content/drive/MyDrive/CapstoneDesign/train/videos/0_01.mp4\n",
            "Inferring 2D keypoints of /content/drive/MyDrive/CapstoneDesign/train/videos/0_02.mp4\n",
            "Inferring 2D keypoints of /content/drive/MyDrive/CapstoneDesign/train/videos/0_03.mp4\n",
            "Inferring 2D keypoints of /content/drive/MyDrive/CapstoneDesign/train/videos/0_04.mp4\n",
            "Inferring 2D keypoints of /content/drive/MyDrive/CapstoneDesign/train/videos/0_05.mp4\n",
            "Inferring 2D keypoints of /content/drive/MyDrive/CapstoneDesign/train/videos/0_06.mp4\n",
            "Inferring 2D keypoints of /content/drive/MyDrive/CapstoneDesign/train/videos/0_07.mp4\n",
            "Inferring 2D keypoints of /content/drive/MyDrive/CapstoneDesign/train/videos/0_08.mp4\n",
            "Inferring 2D keypoints of /content/drive/MyDrive/CapstoneDesign/train/videos/0_09.mp4\n",
            "Inferring 2D keypoints of /content/drive/MyDrive/CapstoneDesign/train/videos/0_10.mp4\n",
            "Inferring 2D keypoints of /content/drive/MyDrive/CapstoneDesign/train/videos/0_11.mp4\n",
            "Inferring 2D keypoints of /content/drive/MyDrive/CapstoneDesign/train/videos/0_12.mp4\n",
            "Inferring 2D keypoints of /content/drive/MyDrive/CapstoneDesign/train/videos/0_13.mp4\n",
            "Inferring 2D keypoints of /content/drive/MyDrive/CapstoneDesign/train/videos/0_14.mp4\n",
            "Inferring 2D keypoints of /content/drive/MyDrive/CapstoneDesign/train/videos/0_15.mp4\n",
            "Inferring 2D keypoints of /content/drive/MyDrive/CapstoneDesign/train/videos/1_00.mp4\n",
            "Inferring 2D keypoints of /content/drive/MyDrive/CapstoneDesign/train/videos/1_01.mp4\n",
            "Inferring 2D keypoints of /content/drive/MyDrive/CapstoneDesign/train/videos/1_02.mp4\n",
            "Inferring 2D keypoints of /content/drive/MyDrive/CapstoneDesign/train/videos/1_03.mp4\n",
            "Inferring 2D keypoints of /content/drive/MyDrive/CapstoneDesign/train/videos/1_04.mp4\n",
            "Inferring 2D keypoints of /content/drive/MyDrive/CapstoneDesign/train/videos/1_05.mp4\n",
            "Inferring 2D keypoints of /content/drive/MyDrive/CapstoneDesign/train/videos/1_06.mp4\n",
            "Inferring 2D keypoints of /content/drive/MyDrive/CapstoneDesign/train/videos/1_07.mp4\n",
            "Inferring 2D keypoints of /content/drive/MyDrive/CapstoneDesign/train/videos/1_08.mp4\n",
            "Inferring 2D keypoints of /content/drive/MyDrive/CapstoneDesign/train/videos/1_09.mp4\n",
            "Inferring 2D keypoints of /content/drive/MyDrive/CapstoneDesign/train/videos/1_10.mp4\n",
            "Inferring 2D keypoints of /content/drive/MyDrive/CapstoneDesign/train/videos/1_11.mp4\n",
            "Inferring 2D keypoints of /content/drive/MyDrive/CapstoneDesign/train/videos/1_12.mp4\n",
            "Inferring 2D keypoints of /content/drive/MyDrive/CapstoneDesign/train/videos/1_13.mp4\n",
            "Inferring 2D keypoints of /content/drive/MyDrive/CapstoneDesign/train/videos/1_14.mp4\n",
            "Inferring 2D keypoints of /content/drive/MyDrive/CapstoneDesign/train/videos/2_00.mp4\n",
            "Inferring 2D keypoints of /content/drive/MyDrive/CapstoneDesign/train/videos/2_01.mp4\n",
            "Inferring 2D keypoints of /content/drive/MyDrive/CapstoneDesign/train/videos/2_02.mp4\n",
            "Inferring 2D keypoints of /content/drive/MyDrive/CapstoneDesign/train/videos/2_03.mp4\n",
            "Inferring 2D keypoints of /content/drive/MyDrive/CapstoneDesign/train/videos/2_04.mp4\n",
            "Inferring 2D keypoints of /content/drive/MyDrive/CapstoneDesign/train/videos/2_05.mp4\n",
            "Inferring 2D keypoints of /content/drive/MyDrive/CapstoneDesign/train/videos/2_06.mp4\n",
            "Inferring 2D keypoints of /content/drive/MyDrive/CapstoneDesign/train/videos/2_07.mp4\n",
            "Inferring 2D keypoints of /content/drive/MyDrive/CapstoneDesign/train/videos/2_08.mp4\n",
            "Inferring 2D keypoints of /content/drive/MyDrive/CapstoneDesign/train/videos/2_09.mp4\n",
            "Inferring 2D keypoints of /content/drive/MyDrive/CapstoneDesign/train/videos/2_10.mp4\n",
            "Inferring 2D keypoints of /content/drive/MyDrive/CapstoneDesign/train/videos/2_11.mp4\n",
            "Inferring 2D keypoints of /content/drive/MyDrive/CapstoneDesign/train/videos/2_12.mp4\n",
            "Inferring 2D keypoints of /content/drive/MyDrive/CapstoneDesign/train/videos/2_13.mp4\n",
            "Inferring 2D keypoints of /content/drive/MyDrive/CapstoneDesign/train/videos/2_14.mp4\n",
            "Inferring 2D keypoints of /content/drive/MyDrive/CapstoneDesign/train/videos/2_15.mp4\n",
            "Inferring 2D keypoints of /content/drive/MyDrive/CapstoneDesign/train/videos/3_00.mp4\n",
            "Inferring 2D keypoints of /content/drive/MyDrive/CapstoneDesign/train/videos/3_01.mp4\n",
            "Inferring 2D keypoints of /content/drive/MyDrive/CapstoneDesign/train/videos/3_02.mp4\n",
            "Inferring 2D keypoints of /content/drive/MyDrive/CapstoneDesign/train/videos/3_03.mp4\n",
            "Inferring 2D keypoints of /content/drive/MyDrive/CapstoneDesign/train/videos/3_04.mp4\n",
            "Inferring 2D keypoints of /content/drive/MyDrive/CapstoneDesign/train/videos/3_05.mp4\n",
            "Inferring 2D keypoints of /content/drive/MyDrive/CapstoneDesign/train/videos/3_06.mp4\n",
            "Inferring 2D keypoints of /content/drive/MyDrive/CapstoneDesign/train/videos/3_07.mp4\n",
            "Inferring 2D keypoints of /content/drive/MyDrive/CapstoneDesign/train/videos/3_08.mp4\n",
            "Inferring 2D keypoints of /content/drive/MyDrive/CapstoneDesign/train/videos/3_09.mp4\n",
            "Inferring 2D keypoints of /content/drive/MyDrive/CapstoneDesign/train/videos/3_10.mp4\n",
            "Inferring 2D keypoints of /content/drive/MyDrive/CapstoneDesign/train/videos/3_11.mp4\n",
            "Inferring 2D keypoints of /content/drive/MyDrive/CapstoneDesign/train/videos/3_12.mp4\n",
            "Inferring 2D keypoints of /content/drive/MyDrive/CapstoneDesign/train/videos/3_13.mp4\n",
            "Inferring 2D keypoints of /content/drive/MyDrive/CapstoneDesign/train/videos/3_14.mp4\n",
            "Inferring 2D keypoints of /content/drive/MyDrive/CapstoneDesign/train/videos/3_15.mp4\n"
          ]
        }
      ]
    },
    {
      "cell_type": "markdown",
      "source": [
        "# Infer 3D Keypoints"
      ],
      "metadata": {
        "id": "vwmZMz3aQO0E"
      }
    },
    {
      "cell_type": "code",
      "source": [
        "shutil.rmtree('/content/VideoPose3D/data')\n",
        "shutil.copytree('/content/drive/MyDrive/CapstoneDesign/train/data', '/content/VideoPose3D/data')"
      ],
      "metadata": {
        "colab": {
          "base_uri": "https://localhost:8080/",
          "height": 36
        },
        "id": "s6JIEa_7Yimn",
        "outputId": "795e4c6b-e2cf-47ce-faa7-fc1e086e7d9f"
      },
      "execution_count": null,
      "outputs": [
        {
          "output_type": "execute_result",
          "data": {
            "text/plain": [
              "'/content/VideoPose3D/data'"
            ],
            "application/vnd.google.colaboratory.intrinsic+json": {
              "type": "string"
            }
          },
          "metadata": {},
          "execution_count": 8
        }
      ]
    },
    {
      "cell_type": "code",
      "source": [
        "# Infer 3D keypoints with VideoPose3D\n",
        "def infer_VP3D(npz_folder, joint_folder):\n",
        "    npz_files = sorted(glob.glob(os.path.join(npz_folder, '*.npz')))\n",
        "\n",
        "    for npz_file in npz_files:\n",
        "        video_name = os.path.splitext(os.path.basename(npz_file))[0]\n",
        "        video_name = video_name[15:]\n",
        "\n",
        "        print(f\"Inferring 3D keypoints of {npz_file}\")\n",
        "\n",
        "        os.chdir('/content/VideoPose3D')\n",
        "        subprocess.run(['python', 'run.py',\n",
        "            '-d', 'custom',\n",
        "            '-k', f'{video_name}',\n",
        "            '-arc', '3,3,3,3,3',\n",
        "            '-c', 'checkpoint',\n",
        "            '--evaluate', 'pretrained_h36m_detectron_coco.bin',\n",
        "            '--render',\n",
        "            '--viz-subject', f'{video_name}.mp4',\n",
        "            '--viz-action', 'custom',\n",
        "            '--viz-camera', '0',\n",
        "            '--viz-size', '10',\n",
        "            '--viz-export', f'{joint_folder}/{video_name}_joint'\n",
        "            ])\n",
        "\n",
        "npz_folder = '/content/VideoPose3D/data'\n",
        "\n",
        "infer_VP3D(npz_folder, VP3D_JOINT)"
      ],
      "metadata": {
        "colab": {
          "base_uri": "https://localhost:8080/"
        },
        "id": "mw6YceWYZJvm",
        "outputId": "116e597a-b61a-4dc9-bea6-48522252e7a8"
      },
      "execution_count": null,
      "outputs": [
        {
          "output_type": "stream",
          "name": "stdout",
          "text": [
            "Inferring 3D keypoints of /content/VideoPose3D/data/data_2d_custom_0_00.npz\n",
            "Inferring 3D keypoints of /content/VideoPose3D/data/data_2d_custom_0_01.npz\n",
            "Inferring 3D keypoints of /content/VideoPose3D/data/data_2d_custom_0_02.npz\n",
            "Inferring 3D keypoints of /content/VideoPose3D/data/data_2d_custom_0_03.npz\n",
            "Inferring 3D keypoints of /content/VideoPose3D/data/data_2d_custom_0_04.npz\n",
            "Inferring 3D keypoints of /content/VideoPose3D/data/data_2d_custom_0_05.npz\n",
            "Inferring 3D keypoints of /content/VideoPose3D/data/data_2d_custom_0_06.npz\n",
            "Inferring 3D keypoints of /content/VideoPose3D/data/data_2d_custom_0_07.npz\n",
            "Inferring 3D keypoints of /content/VideoPose3D/data/data_2d_custom_0_08.npz\n",
            "Inferring 3D keypoints of /content/VideoPose3D/data/data_2d_custom_0_09.npz\n",
            "Inferring 3D keypoints of /content/VideoPose3D/data/data_2d_custom_0_10.npz\n",
            "Inferring 3D keypoints of /content/VideoPose3D/data/data_2d_custom_0_11.npz\n",
            "Inferring 3D keypoints of /content/VideoPose3D/data/data_2d_custom_0_12.npz\n",
            "Inferring 3D keypoints of /content/VideoPose3D/data/data_2d_custom_0_13.npz\n",
            "Inferring 3D keypoints of /content/VideoPose3D/data/data_2d_custom_0_14.npz\n",
            "Inferring 3D keypoints of /content/VideoPose3D/data/data_2d_custom_0_15.npz\n",
            "Inferring 3D keypoints of /content/VideoPose3D/data/data_2d_custom_1_00.npz\n",
            "Inferring 3D keypoints of /content/VideoPose3D/data/data_2d_custom_1_01.npz\n",
            "Inferring 3D keypoints of /content/VideoPose3D/data/data_2d_custom_1_02.npz\n",
            "Inferring 3D keypoints of /content/VideoPose3D/data/data_2d_custom_1_03.npz\n",
            "Inferring 3D keypoints of /content/VideoPose3D/data/data_2d_custom_1_04.npz\n",
            "Inferring 3D keypoints of /content/VideoPose3D/data/data_2d_custom_1_05.npz\n",
            "Inferring 3D keypoints of /content/VideoPose3D/data/data_2d_custom_1_06.npz\n",
            "Inferring 3D keypoints of /content/VideoPose3D/data/data_2d_custom_1_07.npz\n",
            "Inferring 3D keypoints of /content/VideoPose3D/data/data_2d_custom_1_08.npz\n",
            "Inferring 3D keypoints of /content/VideoPose3D/data/data_2d_custom_1_09.npz\n",
            "Inferring 3D keypoints of /content/VideoPose3D/data/data_2d_custom_1_10.npz\n",
            "Inferring 3D keypoints of /content/VideoPose3D/data/data_2d_custom_1_11.npz\n",
            "Inferring 3D keypoints of /content/VideoPose3D/data/data_2d_custom_1_12.npz\n",
            "Inferring 3D keypoints of /content/VideoPose3D/data/data_2d_custom_1_13.npz\n",
            "Inferring 3D keypoints of /content/VideoPose3D/data/data_2d_custom_1_14.npz\n",
            "Inferring 3D keypoints of /content/VideoPose3D/data/data_2d_custom_2_00.npz\n",
            "Inferring 3D keypoints of /content/VideoPose3D/data/data_2d_custom_2_01.npz\n",
            "Inferring 3D keypoints of /content/VideoPose3D/data/data_2d_custom_2_02.npz\n",
            "Inferring 3D keypoints of /content/VideoPose3D/data/data_2d_custom_2_03.npz\n",
            "Inferring 3D keypoints of /content/VideoPose3D/data/data_2d_custom_2_04.npz\n",
            "Inferring 3D keypoints of /content/VideoPose3D/data/data_2d_custom_2_05.npz\n",
            "Inferring 3D keypoints of /content/VideoPose3D/data/data_2d_custom_2_06.npz\n",
            "Inferring 3D keypoints of /content/VideoPose3D/data/data_2d_custom_2_07.npz\n",
            "Inferring 3D keypoints of /content/VideoPose3D/data/data_2d_custom_2_08.npz\n",
            "Inferring 3D keypoints of /content/VideoPose3D/data/data_2d_custom_2_09.npz\n",
            "Inferring 3D keypoints of /content/VideoPose3D/data/data_2d_custom_2_10.npz\n",
            "Inferring 3D keypoints of /content/VideoPose3D/data/data_2d_custom_2_11.npz\n",
            "Inferring 3D keypoints of /content/VideoPose3D/data/data_2d_custom_2_12.npz\n",
            "Inferring 3D keypoints of /content/VideoPose3D/data/data_2d_custom_2_13.npz\n",
            "Inferring 3D keypoints of /content/VideoPose3D/data/data_2d_custom_2_14.npz\n",
            "Inferring 3D keypoints of /content/VideoPose3D/data/data_2d_custom_2_15.npz\n",
            "Inferring 3D keypoints of /content/VideoPose3D/data/data_2d_custom_3_00.npz\n",
            "Inferring 3D keypoints of /content/VideoPose3D/data/data_2d_custom_3_01.npz\n",
            "Inferring 3D keypoints of /content/VideoPose3D/data/data_2d_custom_3_02.npz\n",
            "Inferring 3D keypoints of /content/VideoPose3D/data/data_2d_custom_3_03.npz\n",
            "Inferring 3D keypoints of /content/VideoPose3D/data/data_2d_custom_3_04.npz\n",
            "Inferring 3D keypoints of /content/VideoPose3D/data/data_2d_custom_3_05.npz\n",
            "Inferring 3D keypoints of /content/VideoPose3D/data/data_2d_custom_3_06.npz\n",
            "Inferring 3D keypoints of /content/VideoPose3D/data/data_2d_custom_3_07.npz\n",
            "Inferring 3D keypoints of /content/VideoPose3D/data/data_2d_custom_3_08.npz\n",
            "Inferring 3D keypoints of /content/VideoPose3D/data/data_2d_custom_3_09.npz\n",
            "Inferring 3D keypoints of /content/VideoPose3D/data/data_2d_custom_3_10.npz\n",
            "Inferring 3D keypoints of /content/VideoPose3D/data/data_2d_custom_3_11.npz\n",
            "Inferring 3D keypoints of /content/VideoPose3D/data/data_2d_custom_3_12.npz\n",
            "Inferring 3D keypoints of /content/VideoPose3D/data/data_2d_custom_3_13.npz\n",
            "Inferring 3D keypoints of /content/VideoPose3D/data/data_2d_custom_3_14.npz\n",
            "Inferring 3D keypoints of /content/VideoPose3D/data/data_2d_custom_3_15.npz\n"
          ]
        }
      ]
    },
    {
      "cell_type": "code",
      "source": [
        "# Render 3D keypoints with VideoPose3D\n",
        "def render_VP3D(npz_folder, videos_folder, render_folder):\n",
        "    npz_files = sorted(glob.glob(os.path.join(npz_folder, '*.npz')))\n",
        "\n",
        "    for npz_file in npz_files:\n",
        "        video_name = os.path.splitext(os.path.basename(npz_file))[0]\n",
        "        video_name = video_name.replace('data_2d_custom_', '')\n",
        "\n",
        "        print(f\"Rendering {npz_file} with video name '{video_name}'...\")\n",
        "\n",
        "        os.chdir('/content/VideoPose3D')\n",
        "\n",
        "        render_command = [\n",
        "            'python', 'run.py',\n",
        "            '-d', 'custom',\n",
        "            '-k', f'{video_name}',\n",
        "            '-arc', '3,3,3,3,3',\n",
        "            '-c', 'checkpoint',\n",
        "            '--evaluate', 'pretrained_h36m_detectron_coco.bin',\n",
        "            '--render',\n",
        "            '--viz-subject', f'{video_name}.mp4',\n",
        "            '--viz-action', 'custom',\n",
        "            '--viz-camera', '0',\n",
        "            '--viz-size', '10',\n",
        "            '--viz-video', f'{videos_folder}/{video_name}.mp4',\n",
        "            '--viz-output', f'{render_folder}/{video_name}_render.mp4'\n",
        "        ]\n",
        "\n",
        "        subprocess.run(render_command, check=True)\n",
        "\n",
        "        os.remove('/content/VideoPose3D/data/data_2d_custom_'+video_name+'.npz')\n",
        "\n",
        "\n",
        "npz_folder = '/content/VideoPose3D/data'\n",
        "\n",
        "render_VP3D(npz_folder, VIDEOS, VP3D_RENDER)"
      ],
      "metadata": {
        "colab": {
          "base_uri": "https://localhost:8080/"
        },
        "id": "WewHESuOpdoc",
        "outputId": "7cec29f3-8670-4283-ef1b-6af30c0a98a6"
      },
      "execution_count": null,
      "outputs": [
        {
          "output_type": "stream",
          "name": "stdout",
          "text": [
            "Rendering /content/VideoPose3D/data/data_2d_custom_3_02.npz with video name '3_02'...\n",
            "Rendering /content/VideoPose3D/data/data_2d_custom_3_03.npz with video name '3_03'...\n",
            "Rendering /content/VideoPose3D/data/data_2d_custom_3_04.npz with video name '3_04'...\n",
            "Rendering /content/VideoPose3D/data/data_2d_custom_3_05.npz with video name '3_05'...\n",
            "Rendering /content/VideoPose3D/data/data_2d_custom_3_06.npz with video name '3_06'...\n",
            "Rendering /content/VideoPose3D/data/data_2d_custom_3_07.npz with video name '3_07'...\n",
            "Rendering /content/VideoPose3D/data/data_2d_custom_3_08.npz with video name '3_08'...\n",
            "Rendering /content/VideoPose3D/data/data_2d_custom_3_09.npz with video name '3_09'...\n",
            "Rendering /content/VideoPose3D/data/data_2d_custom_3_10.npz with video name '3_10'...\n",
            "Rendering /content/VideoPose3D/data/data_2d_custom_3_11.npz with video name '3_11'...\n",
            "Rendering /content/VideoPose3D/data/data_2d_custom_3_12.npz with video name '3_12'...\n",
            "Rendering /content/VideoPose3D/data/data_2d_custom_3_13.npz with video name '3_13'...\n",
            "Rendering /content/VideoPose3D/data/data_2d_custom_3_14.npz with video name '3_14'...\n",
            "Rendering /content/VideoPose3D/data/data_2d_custom_3_15.npz with video name '3_15'...\n"
          ]
        }
      ]
    },
    {
      "cell_type": "markdown",
      "source": [
        "# Prepare Dataset and Labeling"
      ],
      "metadata": {
        "id": "A3OSfdD_TaZJ"
      }
    },
    {
      "cell_type": "code",
      "source": [
        "# Convert joints to angles\n",
        "import numpy as np\n",
        "import math\n",
        "\n",
        "class AngleProcessor:\n",
        "    def __init__(self, data):\n",
        "        self.data = data\n",
        "\n",
        "    def calcAngle(self, A, B, C):\n",
        "        try:\n",
        "            BA = [A[0] - B[0], A[1] - B[1], A[2] - B[2]]\n",
        "            BC = [C[0] - B[0], C[1] - B[1], C[2] - B[2]]\n",
        "\n",
        "            dot_product = BA[0] * BC[0] + BA[1] * BC[1] + BA[2] * BC[2]\n",
        "            magnitude_BA = math.sqrt(BA[0] ** 2 + BA[1] ** 2 + BA[2] ** 2)\n",
        "            magnitude_BC = math.sqrt(BC[0] ** 2 + BC[1] ** 2 + BC[2] ** 2)\n",
        "\n",
        "            if magnitude_BA == 0 or magnitude_BC == 0:\n",
        "                return 180\n",
        "\n",
        "            cos_theta = dot_product / (magnitude_BA * magnitude_BC)\n",
        "            cos_theta = np.clip(cos_theta, -1.0, 1.0)\n",
        "            angle = math.acos(cos_theta)\n",
        "\n",
        "            return math.degrees(angle)\n",
        "        except Exception as e:\n",
        "            print(\"Error calculating angle:\", e)\n",
        "            return 180\n",
        "\n",
        "    def getAngle(self):\n",
        "        data_angle = [[0] * 15 for _ in range(len(self.data))]\n",
        "\n",
        "        for frame in range(len(self.data)):\n",
        "            joints = self.data[frame]\n",
        "            angles = [\n",
        "                (0, 1, 2), (1, 2, 3), (0, 4, 5), (4, 5, 6), (1, 0, 7),\n",
        "                (4, 0, 7), (0, 7, 8), (7, 8, 9), (8, 9, 10), (10, 9, 11),\n",
        "                (9, 11, 12), (1, 12, 13), (10, 9, 14), (9, 14, 15), (14, 15, 16)\n",
        "            ]\n",
        "\n",
        "            for i, (a, b, c) in enumerate(angles):\n",
        "                data_angle[frame][i] = self.calcAngle(joints[a], joints[b], joints[c])\n",
        "\n",
        "        return np.array(data_angle)\n",
        "\n",
        "def process_files(joints_folder, angles_folder):\n",
        "    npy_files = sorted(glob.glob(os.path.join(joints_folder, '*.npy')))\n",
        "\n",
        "    for file_path in npy_files:\n",
        "        try:\n",
        "            keypoints_data = np.load(file_path)\n",
        "            print(f\"Processing {file_path}...\")\n",
        "\n",
        "            processor = AngleProcessor(keypoints_data)\n",
        "            angles = processor.getAngle()\n",
        "\n",
        "            output_file_name = os.path.basename(file_path).replace('_joint.npy', '_angles.npy')\n",
        "            output_path = os.path.join(angles_folder, output_file_name)\n",
        "            np.save(output_path, angles)\n",
        "\n",
        "            print(f\"Saved angles to {output_path}\")\n",
        "        except Exception as e:\n",
        "            print(f\"Error processing {file_path}: {e}\")\n",
        "\n",
        "process_files(VP3D_JOINT, ANGLES)"
      ],
      "metadata": {
        "colab": {
          "base_uri": "https://localhost:8080/"
        },
        "id": "ozr0Uhqmhcx6",
        "outputId": "c55c3f5c-e7b9-4109-ddaa-2853723feea3"
      },
      "execution_count": null,
      "outputs": [
        {
          "output_type": "stream",
          "name": "stdout",
          "text": [
            "Processing /content/drive/MyDrive/CapstoneDesign/train/VP3D_joint/0_00_joint.npy...\n",
            "Saved angles to /content/drive/MyDrive/CapstoneDesign/train/angles/0_00_angles.npy\n",
            "Processing /content/drive/MyDrive/CapstoneDesign/train/VP3D_joint/0_01_joint.npy...\n",
            "Saved angles to /content/drive/MyDrive/CapstoneDesign/train/angles/0_01_angles.npy\n",
            "Processing /content/drive/MyDrive/CapstoneDesign/train/VP3D_joint/0_02_joint.npy...\n",
            "Saved angles to /content/drive/MyDrive/CapstoneDesign/train/angles/0_02_angles.npy\n",
            "Processing /content/drive/MyDrive/CapstoneDesign/train/VP3D_joint/0_11_joint.npy...\n",
            "Saved angles to /content/drive/MyDrive/CapstoneDesign/train/angles/0_11_angles.npy\n",
            "Processing /content/drive/MyDrive/CapstoneDesign/train/VP3D_joint/0_12_joint.npy...\n",
            "Saved angles to /content/drive/MyDrive/CapstoneDesign/train/angles/0_12_angles.npy\n",
            "Processing /content/drive/MyDrive/CapstoneDesign/train/VP3D_joint/0_13_joint.npy...\n",
            "Saved angles to /content/drive/MyDrive/CapstoneDesign/train/angles/0_13_angles.npy\n",
            "Processing /content/drive/MyDrive/CapstoneDesign/train/VP3D_joint/0_14_joint.npy...\n",
            "Saved angles to /content/drive/MyDrive/CapstoneDesign/train/angles/0_14_angles.npy\n",
            "Processing /content/drive/MyDrive/CapstoneDesign/train/VP3D_joint/0_15_joint.npy...\n",
            "Saved angles to /content/drive/MyDrive/CapstoneDesign/train/angles/0_15_angles.npy\n",
            "Processing /content/drive/MyDrive/CapstoneDesign/train/VP3D_joint/1_00_joint.npy...\n",
            "Saved angles to /content/drive/MyDrive/CapstoneDesign/train/angles/1_00_angles.npy\n",
            "Processing /content/drive/MyDrive/CapstoneDesign/train/VP3D_joint/1_01_joint.npy...\n",
            "Saved angles to /content/drive/MyDrive/CapstoneDesign/train/angles/1_01_angles.npy\n",
            "Processing /content/drive/MyDrive/CapstoneDesign/train/VP3D_joint/1_02_joint.npy...\n",
            "Saved angles to /content/drive/MyDrive/CapstoneDesign/train/angles/1_02_angles.npy\n",
            "Processing /content/drive/MyDrive/CapstoneDesign/train/VP3D_joint/1_03_joint.npy...\n",
            "Saved angles to /content/drive/MyDrive/CapstoneDesign/train/angles/1_03_angles.npy\n",
            "Processing /content/drive/MyDrive/CapstoneDesign/train/VP3D_joint/1_12_joint.npy...\n",
            "Saved angles to /content/drive/MyDrive/CapstoneDesign/train/angles/1_12_angles.npy\n",
            "Processing /content/drive/MyDrive/CapstoneDesign/train/VP3D_joint/1_13_joint.npy...\n",
            "Saved angles to /content/drive/MyDrive/CapstoneDesign/train/angles/1_13_angles.npy\n",
            "Processing /content/drive/MyDrive/CapstoneDesign/train/VP3D_joint/1_14_joint.npy...\n",
            "Saved angles to /content/drive/MyDrive/CapstoneDesign/train/angles/1_14_angles.npy\n",
            "Processing /content/drive/MyDrive/CapstoneDesign/train/VP3D_joint/2_00_joint.npy...\n",
            "Saved angles to /content/drive/MyDrive/CapstoneDesign/train/angles/2_00_angles.npy\n",
            "Processing /content/drive/MyDrive/CapstoneDesign/train/VP3D_joint/2_01_joint.npy...\n",
            "Saved angles to /content/drive/MyDrive/CapstoneDesign/train/angles/2_01_angles.npy\n",
            "Processing /content/drive/MyDrive/CapstoneDesign/train/VP3D_joint/2_02_joint.npy...\n",
            "Saved angles to /content/drive/MyDrive/CapstoneDesign/train/angles/2_02_angles.npy\n",
            "Processing /content/drive/MyDrive/CapstoneDesign/train/VP3D_joint/2_03_joint.npy...\n",
            "Saved angles to /content/drive/MyDrive/CapstoneDesign/train/angles/2_03_angles.npy\n",
            "Processing /content/drive/MyDrive/CapstoneDesign/train/VP3D_joint/2_04_joint.npy...\n",
            "Saved angles to /content/drive/MyDrive/CapstoneDesign/train/angles/2_04_angles.npy\n",
            "Processing /content/drive/MyDrive/CapstoneDesign/train/VP3D_joint/2_05_joint.npy...\n",
            "Saved angles to /content/drive/MyDrive/CapstoneDesign/train/angles/2_05_angles.npy\n",
            "Processing /content/drive/MyDrive/CapstoneDesign/train/VP3D_joint/2_06_joint.npy...\n",
            "Saved angles to /content/drive/MyDrive/CapstoneDesign/train/angles/2_06_angles.npy\n",
            "Processing /content/drive/MyDrive/CapstoneDesign/train/VP3D_joint/2_07_joint.npy...\n",
            "Saved angles to /content/drive/MyDrive/CapstoneDesign/train/angles/2_07_angles.npy\n",
            "Processing /content/drive/MyDrive/CapstoneDesign/train/VP3D_joint/2_08_joint.npy...\n",
            "Saved angles to /content/drive/MyDrive/CapstoneDesign/train/angles/2_08_angles.npy\n",
            "Processing /content/drive/MyDrive/CapstoneDesign/train/VP3D_joint/2_09_joint.npy...\n",
            "Saved angles to /content/drive/MyDrive/CapstoneDesign/train/angles/2_09_angles.npy\n",
            "Processing /content/drive/MyDrive/CapstoneDesign/train/VP3D_joint/2_10_joint.npy...\n",
            "Saved angles to /content/drive/MyDrive/CapstoneDesign/train/angles/2_10_angles.npy\n",
            "Processing /content/drive/MyDrive/CapstoneDesign/train/VP3D_joint/2_11_joint.npy...\n",
            "Saved angles to /content/drive/MyDrive/CapstoneDesign/train/angles/2_11_angles.npy\n",
            "Processing /content/drive/MyDrive/CapstoneDesign/train/VP3D_joint/2_12_joint.npy...\n",
            "Saved angles to /content/drive/MyDrive/CapstoneDesign/train/angles/2_12_angles.npy\n",
            "Processing /content/drive/MyDrive/CapstoneDesign/train/VP3D_joint/2_13_joint.npy...\n",
            "Saved angles to /content/drive/MyDrive/CapstoneDesign/train/angles/2_13_angles.npy\n",
            "Processing /content/drive/MyDrive/CapstoneDesign/train/VP3D_joint/2_14_joint.npy...\n",
            "Saved angles to /content/drive/MyDrive/CapstoneDesign/train/angles/2_14_angles.npy\n",
            "Processing /content/drive/MyDrive/CapstoneDesign/train/VP3D_joint/2_15_joint.npy...\n",
            "Saved angles to /content/drive/MyDrive/CapstoneDesign/train/angles/2_15_angles.npy\n",
            "Processing /content/drive/MyDrive/CapstoneDesign/train/VP3D_joint/3_00_joint.npy...\n",
            "Saved angles to /content/drive/MyDrive/CapstoneDesign/train/angles/3_00_angles.npy\n",
            "Processing /content/drive/MyDrive/CapstoneDesign/train/VP3D_joint/3_01_joint.npy...\n",
            "Saved angles to /content/drive/MyDrive/CapstoneDesign/train/angles/3_01_angles.npy\n",
            "Processing /content/drive/MyDrive/CapstoneDesign/train/VP3D_joint/3_02_joint.npy...\n",
            "Saved angles to /content/drive/MyDrive/CapstoneDesign/train/angles/3_02_angles.npy\n",
            "Processing /content/drive/MyDrive/CapstoneDesign/train/VP3D_joint/3_03_joint.npy...\n",
            "Saved angles to /content/drive/MyDrive/CapstoneDesign/train/angles/3_03_angles.npy\n",
            "Processing /content/drive/MyDrive/CapstoneDesign/train/VP3D_joint/3_04_joint.npy...\n",
            "Saved angles to /content/drive/MyDrive/CapstoneDesign/train/angles/3_04_angles.npy\n",
            "Processing /content/drive/MyDrive/CapstoneDesign/train/VP3D_joint/3_05_joint.npy...\n",
            "Saved angles to /content/drive/MyDrive/CapstoneDesign/train/angles/3_05_angles.npy\n",
            "Processing /content/drive/MyDrive/CapstoneDesign/train/VP3D_joint/3_06_joint.npy...\n",
            "Saved angles to /content/drive/MyDrive/CapstoneDesign/train/angles/3_06_angles.npy\n",
            "Processing /content/drive/MyDrive/CapstoneDesign/train/VP3D_joint/3_07_joint.npy...\n",
            "Saved angles to /content/drive/MyDrive/CapstoneDesign/train/angles/3_07_angles.npy\n",
            "Processing /content/drive/MyDrive/CapstoneDesign/train/VP3D_joint/3_08_joint.npy...\n",
            "Saved angles to /content/drive/MyDrive/CapstoneDesign/train/angles/3_08_angles.npy\n",
            "Processing /content/drive/MyDrive/CapstoneDesign/train/VP3D_joint/3_09_joint.npy...\n",
            "Saved angles to /content/drive/MyDrive/CapstoneDesign/train/angles/3_09_angles.npy\n",
            "Processing /content/drive/MyDrive/CapstoneDesign/train/VP3D_joint/3_10_joint.npy...\n",
            "Saved angles to /content/drive/MyDrive/CapstoneDesign/train/angles/3_10_angles.npy\n",
            "Processing /content/drive/MyDrive/CapstoneDesign/train/VP3D_joint/3_11_joint.npy...\n",
            "Saved angles to /content/drive/MyDrive/CapstoneDesign/train/angles/3_11_angles.npy\n",
            "Processing /content/drive/MyDrive/CapstoneDesign/train/VP3D_joint/3_12_joint.npy...\n",
            "Saved angles to /content/drive/MyDrive/CapstoneDesign/train/angles/3_12_angles.npy\n",
            "Processing /content/drive/MyDrive/CapstoneDesign/train/VP3D_joint/3_13_joint.npy...\n",
            "Saved angles to /content/drive/MyDrive/CapstoneDesign/train/angles/3_13_angles.npy\n",
            "Processing /content/drive/MyDrive/CapstoneDesign/train/VP3D_joint/3_14_joint.npy...\n",
            "Saved angles to /content/drive/MyDrive/CapstoneDesign/train/angles/3_14_angles.npy\n",
            "Processing /content/drive/MyDrive/CapstoneDesign/train/VP3D_joint/3_15_joint.npy...\n",
            "Saved angles to /content/drive/MyDrive/CapstoneDesign/train/angles/3_15_angles.npy\n"
          ]
        }
      ]
    },
    {
      "cell_type": "code",
      "source": [
        "# Labeling\n",
        "import numpy as np\n",
        "\n",
        "label_mapping = {\n",
        "    0: \"Correct Posture\",\n",
        "    1: \"Leaning Forward\",\n",
        "    2: \"Leaning Backward\",\n",
        "    3: \"Excessive Movement\"\n",
        "}\n",
        "\n",
        "def generate_labels(angles_folder, labels_folder):\n",
        "    angles_files = sorted(glob.glob(os.path.join(angles_folder, '*.npy')))\n",
        "\n",
        "    for angles_file in angles_files:\n",
        "        base_name = os.path.basename(angles_file)\n",
        "        label = int(base_name.split('_')[0])\n",
        "\n",
        "        angles_data = np.load(angles_file)\n",
        "        num_frames = angles_data.shape[0]\n",
        "\n",
        "        labels = np.full((num_frames,), label, dtype=np.int32)\n",
        "\n",
        "        label_file_name = base_name.replace('_angles.npy', '_labels.npy')\n",
        "        label_file_path = os.path.join(labels_folder, label_file_name)\n",
        "\n",
        "        np.save(label_file_path, labels)\n",
        "\n",
        "        print(f\"Label file saved: {label_file_path}\")\n",
        "\n",
        "generate_labels(ANGLES, LABELS)"
      ],
      "metadata": {
        "colab": {
          "base_uri": "https://localhost:8080/"
        },
        "id": "lRIgUMmMTZrj",
        "outputId": "de392ad6-9e45-46b9-f066-afcd94084fc4"
      },
      "execution_count": null,
      "outputs": [
        {
          "output_type": "stream",
          "name": "stdout",
          "text": [
            "Label file saved: /content/drive/MyDrive/CapstoneDesign/train/labels/0_00_labels.npy\n",
            "Label file saved: /content/drive/MyDrive/CapstoneDesign/train/labels/0_01_labels.npy\n",
            "Label file saved: /content/drive/MyDrive/CapstoneDesign/train/labels/0_02_labels.npy\n",
            "Label file saved: /content/drive/MyDrive/CapstoneDesign/train/labels/0_11_labels.npy\n",
            "Label file saved: /content/drive/MyDrive/CapstoneDesign/train/labels/0_12_labels.npy\n",
            "Label file saved: /content/drive/MyDrive/CapstoneDesign/train/labels/0_13_labels.npy\n",
            "Label file saved: /content/drive/MyDrive/CapstoneDesign/train/labels/0_14_labels.npy\n",
            "Label file saved: /content/drive/MyDrive/CapstoneDesign/train/labels/0_15_labels.npy\n",
            "Label file saved: /content/drive/MyDrive/CapstoneDesign/train/labels/1_00_labels.npy\n",
            "Label file saved: /content/drive/MyDrive/CapstoneDesign/train/labels/1_01_labels.npy\n",
            "Label file saved: /content/drive/MyDrive/CapstoneDesign/train/labels/1_02_labels.npy\n",
            "Label file saved: /content/drive/MyDrive/CapstoneDesign/train/labels/1_03_labels.npy\n",
            "Label file saved: /content/drive/MyDrive/CapstoneDesign/train/labels/1_12_labels.npy\n",
            "Label file saved: /content/drive/MyDrive/CapstoneDesign/train/labels/1_13_labels.npy\n",
            "Label file saved: /content/drive/MyDrive/CapstoneDesign/train/labels/1_14_labels.npy\n",
            "Label file saved: /content/drive/MyDrive/CapstoneDesign/train/labels/2_00_labels.npy\n",
            "Label file saved: /content/drive/MyDrive/CapstoneDesign/train/labels/2_01_labels.npy\n",
            "Label file saved: /content/drive/MyDrive/CapstoneDesign/train/labels/2_02_labels.npy\n",
            "Label file saved: /content/drive/MyDrive/CapstoneDesign/train/labels/2_03_labels.npy\n",
            "Label file saved: /content/drive/MyDrive/CapstoneDesign/train/labels/2_04_labels.npy\n",
            "Label file saved: /content/drive/MyDrive/CapstoneDesign/train/labels/2_05_labels.npy\n",
            "Label file saved: /content/drive/MyDrive/CapstoneDesign/train/labels/2_06_labels.npy\n",
            "Label file saved: /content/drive/MyDrive/CapstoneDesign/train/labels/2_07_labels.npy\n",
            "Label file saved: /content/drive/MyDrive/CapstoneDesign/train/labels/2_08_labels.npy\n",
            "Label file saved: /content/drive/MyDrive/CapstoneDesign/train/labels/2_09_labels.npy\n",
            "Label file saved: /content/drive/MyDrive/CapstoneDesign/train/labels/2_10_labels.npy\n",
            "Label file saved: /content/drive/MyDrive/CapstoneDesign/train/labels/2_11_labels.npy\n",
            "Label file saved: /content/drive/MyDrive/CapstoneDesign/train/labels/2_12_labels.npy\n",
            "Label file saved: /content/drive/MyDrive/CapstoneDesign/train/labels/2_13_labels.npy\n",
            "Label file saved: /content/drive/MyDrive/CapstoneDesign/train/labels/2_14_labels.npy\n",
            "Label file saved: /content/drive/MyDrive/CapstoneDesign/train/labels/2_15_labels.npy\n",
            "Label file saved: /content/drive/MyDrive/CapstoneDesign/train/labels/3_00_labels.npy\n",
            "Label file saved: /content/drive/MyDrive/CapstoneDesign/train/labels/3_01_labels.npy\n",
            "Label file saved: /content/drive/MyDrive/CapstoneDesign/train/labels/3_02_labels.npy\n",
            "Label file saved: /content/drive/MyDrive/CapstoneDesign/train/labels/3_03_labels.npy\n",
            "Label file saved: /content/drive/MyDrive/CapstoneDesign/train/labels/3_04_labels.npy\n",
            "Label file saved: /content/drive/MyDrive/CapstoneDesign/train/labels/3_05_labels.npy\n",
            "Label file saved: /content/drive/MyDrive/CapstoneDesign/train/labels/3_06_labels.npy\n",
            "Label file saved: /content/drive/MyDrive/CapstoneDesign/train/labels/3_07_labels.npy\n",
            "Label file saved: /content/drive/MyDrive/CapstoneDesign/train/labels/3_08_labels.npy\n",
            "Label file saved: /content/drive/MyDrive/CapstoneDesign/train/labels/3_09_labels.npy\n",
            "Label file saved: /content/drive/MyDrive/CapstoneDesign/train/labels/3_10_labels.npy\n",
            "Label file saved: /content/drive/MyDrive/CapstoneDesign/train/labels/3_11_labels.npy\n",
            "Label file saved: /content/drive/MyDrive/CapstoneDesign/train/labels/3_12_labels.npy\n",
            "Label file saved: /content/drive/MyDrive/CapstoneDesign/train/labels/3_13_labels.npy\n",
            "Label file saved: /content/drive/MyDrive/CapstoneDesign/train/labels/3_14_labels.npy\n",
            "Label file saved: /content/drive/MyDrive/CapstoneDesign/train/labels/3_15_labels.npy\n"
          ]
        }
      ]
    },
    {
      "cell_type": "markdown",
      "source": [
        "# Train\n"
      ],
      "metadata": {
        "id": "8RXMhJX-NAn5"
      }
    },
    {
      "cell_type": "code",
      "source": [
        "import torch\n",
        "import torch.nn as nn\n",
        "import torch.optim as optim\n",
        "from torch.utils.data import Dataset, DataLoader\n",
        "import numpy as np\n",
        "from torch.nn.utils.rnn import pad_sequence, pack_padded_sequence, pad_packed_sequence\n",
        "from sklearn.metrics import precision_score, recall_score, f1_score\n",
        "import random\n",
        "\n",
        "# Set seed\n",
        "def set_seed(seed):\n",
        "    torch.manual_seed(seed)\n",
        "    torch.cuda.manual_seed(seed)\n",
        "    torch.cuda.manual_seed_all(seed)\n",
        "    np.random.seed(seed)\n",
        "    random.seed(seed)\n",
        "    torch.backends.cudnn.deterministic = True\n",
        "    torch.backends.cudnn.benchmark = False\n",
        "\n",
        "# Collate function for variable-length sequences\n",
        "def collate_fn(batch):\n",
        "    inputs = [item[0] for item in batch]\n",
        "    targets = [item[1] for item in batch]\n",
        "\n",
        "    # Pad sequences to match the longest one in the batch\n",
        "    padded_inputs = pad_sequence(inputs, batch_first=True)\n",
        "    padded_targets = pad_sequence(targets, batch_first=True, padding_value=-1)\n",
        "\n",
        "    lengths = torch.tensor([len(seq) for seq in inputs], dtype=torch.long)\n",
        "\n",
        "    return padded_inputs, padded_targets, lengths\n",
        "\n",
        "# Define Dataset\n",
        "class PostureDataset(Dataset):\n",
        "    def __init__(self, angles_files, labels_files):\n",
        "        self.angles_files = angles_files\n",
        "        self.labels_files = labels_files\n",
        "\n",
        "    def __len__(self):\n",
        "        return len(self.angles_files)\n",
        "\n",
        "    def __getitem__(self, idx):\n",
        "        angles = np.load(self.angles_files[idx])\n",
        "        labels = np.load(self.labels_files[idx])\n",
        "\n",
        "        angles_tensor = torch.tensor(angles, dtype=torch.float32)\n",
        "        labels_tensor = torch.tensor(labels, dtype=torch.long)\n",
        "\n",
        "        return angles_tensor, labels_tensor\n",
        "\n",
        "# Define LSTM-based model\n",
        "class PostureClassifierRNN(nn.Module):\n",
        "    def __init__(self, input_size=15, hidden_size=64, num_layers=1, num_classes=4):\n",
        "        super(PostureClassifierRNN, self).__init__()\n",
        "        self.lstm = nn.LSTM(input_size, hidden_size, num_layers, batch_first=True)\n",
        "        self.fc = nn.Linear(hidden_size, num_classes)\n",
        "\n",
        "    def forward(self, x, lengths):\n",
        "        # Pack padded sequences\n",
        "        packed_x = pack_padded_sequence(x, lengths.cpu(), batch_first=True, enforce_sorted=False)\n",
        "\n",
        "        # LSTM output\n",
        "        packed_out, _ = self.lstm(packed_x)\n",
        "\n",
        "        # Unpack sequences\n",
        "        lstm_out, _ = pad_packed_sequence(packed_out, batch_first=True)\n",
        "\n",
        "        # Fully connected layer\n",
        "        output = self.fc(lstm_out)\n",
        "\n",
        "        return output\n",
        "\n",
        "# Training function\n",
        "def train_model(model, dataloader, criterion, optimizer, device, num_epochs=10):\n",
        "    model.to(device)\n",
        "\n",
        "    for epoch in range(num_epochs):\n",
        "        model.train()\n",
        "        running_loss = 0.0\n",
        "\n",
        "        for inputs, labels, lengths in dataloader:\n",
        "            inputs = inputs.to(device)\n",
        "            labels = labels.to(device)\n",
        "\n",
        "            optimizer.zero_grad()\n",
        "            outputs = model(inputs, lengths)\n",
        "\n",
        "            outputs = outputs.view(-1, outputs.shape[-1])\n",
        "            labels = labels.view(-1)\n",
        "\n",
        "            loss = criterion(outputs, labels)\n",
        "\n",
        "            loss.backward()\n",
        "            optimizer.step()\n",
        "\n",
        "            running_loss += loss.item()\n",
        "\n",
        "        print(f\"Epoch {epoch + 1}/{num_epochs}, Training Loss: {running_loss / len(dataloader):.4f}\")\n",
        "\n",
        "# Prediction function\n",
        "def predict(model, angle_input, device):\n",
        "    model.eval()\n",
        "    model.to(device)\n",
        "\n",
        "    with torch.no_grad():\n",
        "        lengths = torch.tensor([angle_input.shape[0]], dtype=torch.long)\n",
        "        angle_input = torch.tensor(angle_input, dtype=torch.float32).unsqueeze(0).to(device)\n",
        "\n",
        "        # Forward pass\n",
        "        output = model(angle_input, lengths)\n",
        "        _, predicted = torch.max(output, 2)\n",
        "\n",
        "    return predicted.cpu().numpy().flatten()\n",
        "\n",
        "# Evaluation function\n",
        "def evaluate_model_with_metrics(model, dataloader, criterion, device):\n",
        "    model.eval()\n",
        "    total_loss = 0.0\n",
        "    all_predictions = []\n",
        "    all_labels = []\n",
        "\n",
        "    with torch.no_grad():\n",
        "        for inputs, labels, lengths in dataloader:\n",
        "            inputs = inputs.to(device)\n",
        "            labels = labels.to(device)\n",
        "\n",
        "            output = model(inputs, lengths)\n",
        "\n",
        "            output = output.view(-1, output.shape[-1])\n",
        "            labels = labels.view(-1)\n",
        "\n",
        "            loss = criterion(output, labels)\n",
        "            total_loss += loss.item()\n",
        "\n",
        "            # Save predicted values\n",
        "            _, predicted = torch.max(output, 1)\n",
        "            mask = labels != -1\n",
        "            all_predictions.extend(predicted[mask].cpu().numpy())\n",
        "            all_labels.extend(labels[mask].cpu().numpy())\n",
        "\n",
        "    avg_loss = total_loss / len(dataloader)\n",
        "    accuracy = np.mean(np.array(all_predictions) == np.array(all_labels))\n",
        "    precision = precision_score(all_labels, all_predictions, average='macro', zero_division=0)\n",
        "    recall = recall_score(all_labels, all_predictions, average='macro', zero_division=0)\n",
        "    f1 = f1_score(all_labels, all_predictions, average='macro', zero_division=0)\n",
        "\n",
        "    print(f\"Validation Loss: {avg_loss:.4f}\")\n",
        "    print(f\"Accuracy: {accuracy:.4f}\")\n",
        "    print(f\"Precision: {precision:.4f}\")\n",
        "    print(f\"Recall: {recall:.4f}\")\n",
        "    print(f\"F1 Score: {f1:.4f}\")\n",
        "\n",
        "    return avg_loss, accuracy, precision, recall, f1\n"
      ],
      "metadata": {
        "id": "4315z-Jms1_I"
      },
      "execution_count": null,
      "outputs": []
    },
    {
      "cell_type": "code",
      "source": [
        "# Train the model\n",
        "import os, glob\n",
        "\n",
        "train_angle_files = sorted(glob.glob(f'{ANGLES}/*.npy'))\n",
        "train_label_files = sorted(glob.glob(f'{LABELS}/*.npy'))\n",
        "\n",
        "input_size = 15\n",
        "hidden_size = 64\n",
        "num_layers = 1\n",
        "num_classes = 4\n",
        "batch_size = 4\n",
        "num_epochs = 150\n",
        "learning_rate = 0.001\n",
        "\n",
        "seed = 777\n",
        "set_seed(seed)\n",
        "\n",
        "train_dataset = PostureDataset(train_angle_files, train_label_files)\n",
        "train_dataloader = DataLoader(train_dataset, batch_size=batch_size, shuffle=True, collate_fn=collate_fn)\n",
        "\n",
        "device = torch.device('cuda' if torch.cuda.is_available() else 'cpu')\n",
        "model = PostureClassifierRNN(input_size, hidden_size, num_layers, num_classes)\n",
        "criterion = nn.CrossEntropyLoss(ignore_index=-1)\n",
        "optimizer = optim.Adam(model.parameters(), lr=learning_rate)\n",
        "\n",
        "train_model(model, train_dataloader, criterion, optimizer, device, num_epochs)\n",
        "\n",
        "model_save_path = f'{CHECKPOINT}/{num_epochs}epochs.pth'\n",
        "torch.save(model.state_dict(), model_save_path)\n",
        "print(f\"Model training completed and saved at {model_save_path}.\")"
      ],
      "metadata": {
        "id": "Y-_2JqzGClFS",
        "colab": {
          "base_uri": "https://localhost:8080/"
        },
        "outputId": "c54119a9-ddc5-45a4-a79e-f4a14ae0aab6"
      },
      "execution_count": null,
      "outputs": [
        {
          "output_type": "stream",
          "name": "stdout",
          "text": [
            "Epoch 1/150, Training Loss: 1.4248\n",
            "Epoch 2/150, Training Loss: 1.3240\n",
            "Epoch 3/150, Training Loss: 1.2678\n",
            "Epoch 4/150, Training Loss: 1.2069\n",
            "Epoch 5/150, Training Loss: 1.1513\n",
            "Epoch 6/150, Training Loss: 1.1411\n",
            "Epoch 7/150, Training Loss: 1.1269\n",
            "Epoch 8/150, Training Loss: 1.0742\n",
            "Epoch 9/150, Training Loss: 1.0420\n",
            "Epoch 10/150, Training Loss: 0.9972\n",
            "Epoch 11/150, Training Loss: 0.9983\n",
            "Epoch 12/150, Training Loss: 1.0202\n",
            "Epoch 13/150, Training Loss: 0.9625\n",
            "Epoch 14/150, Training Loss: 0.9246\n",
            "Epoch 15/150, Training Loss: 0.9025\n",
            "Epoch 16/150, Training Loss: 0.8916\n",
            "Epoch 17/150, Training Loss: 0.8867\n",
            "Epoch 18/150, Training Loss: 0.8878\n",
            "Epoch 19/150, Training Loss: 0.8985\n",
            "Epoch 20/150, Training Loss: 0.8382\n",
            "Epoch 21/150, Training Loss: 0.8844\n",
            "Epoch 22/150, Training Loss: 0.8320\n",
            "Epoch 23/150, Training Loss: 0.7460\n",
            "Epoch 24/150, Training Loss: 0.7757\n",
            "Epoch 25/150, Training Loss: 0.7790\n",
            "Epoch 26/150, Training Loss: 0.7624\n",
            "Epoch 27/150, Training Loss: 0.7447\n",
            "Epoch 28/150, Training Loss: 0.7377\n",
            "Epoch 29/150, Training Loss: 0.6867\n",
            "Epoch 30/150, Training Loss: 0.6519\n",
            "Epoch 31/150, Training Loss: 0.6621\n",
            "Epoch 32/150, Training Loss: 0.6410\n",
            "Epoch 33/150, Training Loss: 0.6022\n",
            "Epoch 34/150, Training Loss: 0.6159\n",
            "Epoch 35/150, Training Loss: 0.5865\n",
            "Epoch 36/150, Training Loss: 0.5726\n",
            "Epoch 37/150, Training Loss: 0.6290\n",
            "Epoch 38/150, Training Loss: 0.6600\n",
            "Epoch 39/150, Training Loss: 0.6164\n",
            "Epoch 40/150, Training Loss: 0.6123\n",
            "Epoch 41/150, Training Loss: 0.5883\n",
            "Epoch 42/150, Training Loss: 0.5721\n",
            "Epoch 43/150, Training Loss: 0.5514\n",
            "Epoch 44/150, Training Loss: 0.5453\n",
            "Epoch 45/150, Training Loss: 0.5388\n",
            "Epoch 46/150, Training Loss: 0.5464\n",
            "Epoch 47/150, Training Loss: 0.5664\n",
            "Epoch 48/150, Training Loss: 0.5963\n",
            "Epoch 49/150, Training Loss: 0.5560\n",
            "Epoch 50/150, Training Loss: 0.5417\n",
            "Epoch 51/150, Training Loss: 0.5041\n",
            "Epoch 52/150, Training Loss: 0.5068\n",
            "Epoch 53/150, Training Loss: 0.5196\n",
            "Epoch 54/150, Training Loss: 0.5148\n",
            "Epoch 55/150, Training Loss: 0.4690\n",
            "Epoch 56/150, Training Loss: 0.4447\n",
            "Epoch 57/150, Training Loss: 0.4451\n",
            "Epoch 58/150, Training Loss: 0.5374\n",
            "Epoch 59/150, Training Loss: 0.5284\n",
            "Epoch 60/150, Training Loss: 0.5464\n",
            "Epoch 61/150, Training Loss: 0.5320\n",
            "Epoch 62/150, Training Loss: 0.5193\n",
            "Epoch 63/150, Training Loss: 0.5053\n",
            "Epoch 64/150, Training Loss: 0.5253\n",
            "Epoch 65/150, Training Loss: 0.6199\n",
            "Epoch 66/150, Training Loss: 0.5987\n",
            "Epoch 67/150, Training Loss: 0.5552\n",
            "Epoch 68/150, Training Loss: 0.5528\n",
            "Epoch 69/150, Training Loss: 0.5479\n",
            "Epoch 70/150, Training Loss: 0.5516\n",
            "Epoch 71/150, Training Loss: 0.5612\n",
            "Epoch 72/150, Training Loss: 0.5492\n",
            "Epoch 73/150, Training Loss: 0.4998\n",
            "Epoch 74/150, Training Loss: 0.5314\n",
            "Epoch 75/150, Training Loss: 0.5562\n",
            "Epoch 76/150, Training Loss: 0.5175\n",
            "Epoch 77/150, Training Loss: 0.5006\n",
            "Epoch 78/150, Training Loss: 0.5092\n",
            "Epoch 79/150, Training Loss: 0.5041\n",
            "Epoch 80/150, Training Loss: 0.4919\n",
            "Epoch 81/150, Training Loss: 0.4729\n",
            "Epoch 82/150, Training Loss: 0.4833\n",
            "Epoch 83/150, Training Loss: 0.4922\n",
            "Epoch 84/150, Training Loss: 0.5095\n",
            "Epoch 85/150, Training Loss: 0.5034\n",
            "Epoch 86/150, Training Loss: 0.4495\n",
            "Epoch 87/150, Training Loss: 0.4393\n",
            "Epoch 88/150, Training Loss: 0.4076\n",
            "Epoch 89/150, Training Loss: 0.4209\n",
            "Epoch 90/150, Training Loss: 0.4002\n",
            "Epoch 91/150, Training Loss: 0.3938\n",
            "Epoch 92/150, Training Loss: 0.3788\n",
            "Epoch 93/150, Training Loss: 0.3805\n",
            "Epoch 94/150, Training Loss: 0.3595\n",
            "Epoch 95/150, Training Loss: 0.3924\n",
            "Epoch 96/150, Training Loss: 0.3781\n",
            "Epoch 97/150, Training Loss: 0.3612\n",
            "Epoch 98/150, Training Loss: 0.3283\n",
            "Epoch 99/150, Training Loss: 0.3980\n",
            "Epoch 100/150, Training Loss: 0.3585\n",
            "Epoch 101/150, Training Loss: 0.3770\n",
            "Epoch 102/150, Training Loss: 0.3485\n",
            "Epoch 103/150, Training Loss: 0.3438\n",
            "Epoch 104/150, Training Loss: 0.3463\n",
            "Epoch 105/150, Training Loss: 0.3338\n",
            "Epoch 106/150, Training Loss: 0.3260\n",
            "Epoch 107/150, Training Loss: 0.3460\n",
            "Epoch 108/150, Training Loss: 0.3583\n",
            "Epoch 109/150, Training Loss: 0.3539\n",
            "Epoch 110/150, Training Loss: 0.3653\n",
            "Epoch 111/150, Training Loss: 0.3342\n",
            "Epoch 112/150, Training Loss: 0.3443\n",
            "Epoch 113/150, Training Loss: 0.3074\n",
            "Epoch 114/150, Training Loss: 0.3146\n",
            "Epoch 115/150, Training Loss: 0.3179\n",
            "Epoch 116/150, Training Loss: 0.3170\n",
            "Epoch 117/150, Training Loss: 0.3529\n",
            "Epoch 118/150, Training Loss: 0.3425\n",
            "Epoch 119/150, Training Loss: 0.3374\n",
            "Epoch 120/150, Training Loss: 0.3246\n",
            "Epoch 121/150, Training Loss: 0.3033\n",
            "Epoch 122/150, Training Loss: 0.2874\n",
            "Epoch 123/150, Training Loss: 0.2953\n",
            "Epoch 124/150, Training Loss: 0.2919\n",
            "Epoch 125/150, Training Loss: 0.2805\n",
            "Epoch 126/150, Training Loss: 0.3005\n",
            "Epoch 127/150, Training Loss: 0.2955\n",
            "Epoch 128/150, Training Loss: 0.2825\n",
            "Epoch 129/150, Training Loss: 0.2906\n",
            "Epoch 130/150, Training Loss: 0.2742\n",
            "Epoch 131/150, Training Loss: 0.2655\n",
            "Epoch 132/150, Training Loss: 0.2682\n",
            "Epoch 133/150, Training Loss: 0.2830\n",
            "Epoch 134/150, Training Loss: 0.2774\n",
            "Epoch 135/150, Training Loss: 0.2892\n",
            "Epoch 136/150, Training Loss: 0.2744\n",
            "Epoch 137/150, Training Loss: 0.3132\n",
            "Epoch 138/150, Training Loss: 0.3392\n",
            "Epoch 139/150, Training Loss: 0.3381\n",
            "Epoch 140/150, Training Loss: 0.3356\n",
            "Epoch 141/150, Training Loss: 0.2767\n",
            "Epoch 142/150, Training Loss: 0.2510\n",
            "Epoch 143/150, Training Loss: 0.2648\n",
            "Epoch 144/150, Training Loss: 0.2767\n",
            "Epoch 145/150, Training Loss: 0.2692\n",
            "Epoch 146/150, Training Loss: 0.2441\n",
            "Epoch 147/150, Training Loss: 0.2236\n",
            "Epoch 148/150, Training Loss: 0.2445\n",
            "Epoch 149/150, Training Loss: 0.2201\n",
            "Epoch 150/150, Training Loss: 0.2247\n",
            "Model training completed and saved at /content/drive/MyDrive/CapstoneDesign/train/checkpoint/150epochs.pth.\n"
          ]
        }
      ]
    },
    {
      "cell_type": "markdown",
      "source": [
        "# Test"
      ],
      "metadata": {
        "id": "hyN3hB3RkuAh"
      }
    },
    {
      "cell_type": "code",
      "source": [
        "# Mount Google Drive\n",
        "from google.colab import drive\n",
        "drive.mount('/content/drive')"
      ],
      "metadata": {
        "colab": {
          "base_uri": "https://localhost:8080/"
        },
        "id": "r6i9ddhnMx7l",
        "outputId": "89cc1961-57fd-40a2-ccca-bd88aa6b4a48"
      },
      "execution_count": null,
      "outputs": [
        {
          "output_type": "stream",
          "name": "stdout",
          "text": [
            "Mounted at /content/drive\n"
          ]
        }
      ]
    },
    {
      "cell_type": "code",
      "source": [
        "os.makedirs('/content/drive/MyDrive/CapstoneDesign/test1/videos', exist_ok = True)\n",
        "os.makedirs('/content/drive/MyDrive/CapstoneDesign/test1/Det2', exist_ok = True)\n",
        "os.makedirs('/content/drive/MyDrive/CapstoneDesign/test1/VP3D_joint', exist_ok = True)\n",
        "os.makedirs('/content/drive/MyDrive/CapstoneDesign/test1/angles', exist_ok = True)\n",
        "os.makedirs('/content/drive/MyDrive/CapstoneDesign/test1/labels', exist_ok = True)\n",
        "os.makedirs('/content/drive/MyDrive/CapstoneDesign/test1/RPC', exist_ok = True)"
      ],
      "metadata": {
        "id": "VvKG0yTkkvot"
      },
      "execution_count": null,
      "outputs": []
    },
    {
      "cell_type": "code",
      "source": [
        "TEST_ORIGINAL_VIDEOS = '/content/drive/MyDrive/CapstoneDesign/test1/original_videos'\n",
        "\n",
        "TEST_VIDEOS = '/content/drive/MyDrive/CapstoneDesign/test1/videos'\n",
        "TEST_DET2 = '/content/drive/MyDrive/CapstoneDesign/test1/Det2'\n",
        "TEST_VP3D_JOINT = '/content/drive/MyDrive/CapstoneDesign/test1/VP3D_joint'\n",
        "TEST_ANGLES = '/content/drive/MyDrive/CapstoneDesign/test1/angles'\n",
        "TEST_LABELS = '/content/drive/MyDrive/CapstoneDesign/test1/labels'\n",
        "RPC = '/content/drive/MyDrive/CapstoneDesign/test1/RPC'"
      ],
      "metadata": {
        "id": "_fl-pqCvk5JZ"
      },
      "execution_count": null,
      "outputs": []
    },
    {
      "cell_type": "code",
      "source": [
        "# Resample videos to 50fps\n",
        "import os\n",
        "import glob\n",
        "import subprocess\n",
        "\n",
        "def resample_videos_to_50fps(input_folder, output_folder):\n",
        "    video_files = sorted(glob.glob(os.path.join(input_folder, '*.mp4')))\n",
        "\n",
        "    for input_video_path in video_files:\n",
        "        output_video_path = os.path.join(output_folder, os.path.basename(input_video_path))\n",
        "\n",
        "        print(f\"Resample video to 50fps: {input_video_path} -> {output_video_path}\")\n",
        "\n",
        "        command = [\n",
        "            \"ffmpeg\",\n",
        "            \"-i\", input_video_path,\n",
        "            \"-filter:v\", \"fps=fps=50\",\n",
        "            \"-c:a\", \"copy\",\n",
        "            output_video_path\n",
        "        ]\n",
        "\n",
        "        subprocess.run(command, check=True)\n",
        "\n",
        "    print(f\"All videos have been resampled and saved in {output_folder}.\")\n",
        "\n",
        "resample_videos_to_50fps(TEST_ORIGINAL_VIDEOS, TEST_VIDEOS)"
      ],
      "metadata": {
        "colab": {
          "base_uri": "https://localhost:8080/"
        },
        "id": "sLTh_uaAlJwj",
        "outputId": "86507077-c216-489d-94e7-b51411c52f16"
      },
      "execution_count": null,
      "outputs": [
        {
          "output_type": "stream",
          "name": "stdout",
          "text": [
            "Resample video to 50fps: /content/drive/MyDrive/CapstoneDesign/test2/original_videos/0_00.mp4 -> /content/drive/MyDrive/CapstoneDesign/test2/videos/0_00.mp4\n",
            "All videos have been resampled and saved in /content/drive/MyDrive/CapstoneDesign/test2/videos.\n"
          ]
        }
      ]
    },
    {
      "cell_type": "code",
      "source": [
        "# Infer 2D keypoints with Detectron2 and prepare custom dataset\n",
        "def infer_Det2_and_prepare_dataset(VIDEOS, DET2):\n",
        "    mp4_files = sorted(glob.glob(os.path.join(VIDEOS, '*.mp4')))\n",
        "\n",
        "    for mp4_file in mp4_files:\n",
        "        print(f\"Inferring 2D keypoints of {mp4_file}\")\n",
        "\n",
        "        os.chdir('/content/VideoPose3D/inference')\n",
        "        subprocess.run(['python', 'infer_video_d2.py',\n",
        "                        '--cfg', 'COCO-Keypoints/keypoint_rcnn_R_101_FPN_3x.yaml',\n",
        "                        '--output-dir', DET2,\n",
        "                        '--image-ext', 'mp4',\n",
        "                        mp4_file])\n",
        "\n",
        "        os.chdir('/content/VideoPose3D/data')\n",
        "        subprocess.run(['python', 'prepare_data_2d_custom.py',\n",
        "                        '-i', DET2,\n",
        "                        '-o', os.path.splitext(os.path.basename(mp4_file))[0]])\n",
        "\n",
        "        for npz_file in glob.glob(os.path.join(DET2, '*.npz')):\n",
        "          os.remove(npz_file)\n",
        "\n",
        "infer_Det2_and_prepare_dataset(TEST_VIDEOS, TEST_DET2)"
      ],
      "metadata": {
        "colab": {
          "base_uri": "https://localhost:8080/"
        },
        "id": "KZXNmcETlOHW",
        "outputId": "98c1e382-e5d1-40c6-b26a-8f33f1fb7353"
      },
      "execution_count": null,
      "outputs": [
        {
          "output_type": "stream",
          "name": "stdout",
          "text": [
            "Inferring 2D keypoints of /content/drive/MyDrive/CapstoneDesign/test2/videos/0_00.mp4\n"
          ]
        }
      ]
    },
    {
      "cell_type": "code",
      "source": [
        "# Infer 3D keypoints with VideoPose3D\n",
        "def infer_VP3D(npz_folder, VP3D_JOINT):\n",
        "    npz_files = sorted(glob.glob(os.path.join(npz_folder, '*.npz')))\n",
        "\n",
        "    for npz_file in npz_files:\n",
        "        video_name = os.path.splitext(os.path.basename(npz_file))[0]\n",
        "        video_name = video_name[15:]\n",
        "\n",
        "        print(f\"Inferring 3D keypoints of {npz_file}\")\n",
        "\n",
        "        os.chdir('/content/VideoPose3D')\n",
        "        subprocess.run(['python', 'run.py',\n",
        "            '-d', 'custom',\n",
        "            '-k', f'{video_name}',\n",
        "            '-arc', '3,3,3,3,3',\n",
        "            '-c', 'checkpoint',\n",
        "            '--evaluate', 'pretrained_h36m_detectron_coco.bin',\n",
        "            '--render',\n",
        "            '--viz-subject', f'{video_name}.mp4',\n",
        "            '--viz-action', 'custom',\n",
        "            '--viz-camera', '0',\n",
        "            '--viz-size', '10',\n",
        "            '--viz-export', f'{VP3D_JOINT}/{video_name}_joint'\n",
        "            ])\n",
        "\n",
        "npz_folder = '/content/VideoPose3D/data'\n",
        "\n",
        "infer_VP3D(npz_folder, TEST_VP3D_JOINT)"
      ],
      "metadata": {
        "colab": {
          "base_uri": "https://localhost:8080/"
        },
        "id": "10hMdykdlTzj",
        "outputId": "6a7cfe51-8ff2-4d9d-a2fb-f3ec36cd3231"
      },
      "execution_count": null,
      "outputs": [
        {
          "output_type": "stream",
          "name": "stdout",
          "text": [
            "Inferring 3D keypoints of /content/VideoPose3D/data/data_2d_custom_0_00.npz\n"
          ]
        }
      ]
    },
    {
      "cell_type": "code",
      "source": [
        "# Convert joints to angles\n",
        "import numpy as np\n",
        "import math\n",
        "\n",
        "class AngleProcessor:\n",
        "    def __init__(self, data):\n",
        "        self.data = data\n",
        "\n",
        "    def calcAngle(self, A, B, C):\n",
        "        try:\n",
        "            BA = [A[0] - B[0], A[1] - B[1], A[2] - B[2]]\n",
        "            BC = [C[0] - B[0], C[1] - B[1], C[2] - B[2]]\n",
        "\n",
        "            dot_product = BA[0] * BC[0] + BA[1] * BC[1] + BA[2] * BC[2]\n",
        "            magnitude_BA = math.sqrt(BA[0] ** 2 + BA[1] ** 2 + BA[2] ** 2)\n",
        "            magnitude_BC = math.sqrt(BC[0] ** 2 + BC[1] ** 2 + BC[2] ** 2)\n",
        "\n",
        "            if magnitude_BA == 0 or magnitude_BC == 0:\n",
        "                return 180\n",
        "\n",
        "            cos_theta = dot_product / (magnitude_BA * magnitude_BC)\n",
        "            cos_theta = np.clip(cos_theta, -1.0, 1.0)\n",
        "            angle = math.acos(cos_theta)\n",
        "\n",
        "            return math.degrees(angle)\n",
        "        except Exception as e:\n",
        "            print(\"Error calculating angle:\", e)\n",
        "            return 180\n",
        "\n",
        "    def getAngle(self):\n",
        "        data_angle = [[0] * 15 for _ in range(len(self.data))]\n",
        "\n",
        "        for frame in range(len(self.data)):\n",
        "            joints = self.data[frame]\n",
        "            angles = [\n",
        "                (0, 1, 2), (1, 2, 3), (0, 4, 5), (4, 5, 6), (1, 0, 7),\n",
        "                (4, 0, 7), (0, 7, 8), (7, 8, 9), (8, 9, 10), (10, 9, 11),\n",
        "                (9, 11, 12), (1, 12, 13), (10, 9, 14), (9, 14, 15), (14, 15, 16)\n",
        "            ]\n",
        "\n",
        "            for i, (a, b, c) in enumerate(angles):\n",
        "                data_angle[frame][i] = self.calcAngle(joints[a], joints[b], joints[c])\n",
        "\n",
        "        return np.array(data_angle)\n",
        "\n",
        "def process_files(joints_folder, angles_folder):\n",
        "    npy_files = sorted(glob.glob(os.path.join(joints_folder, '*.npy')))\n",
        "\n",
        "    for file_path in npy_files:\n",
        "        try:\n",
        "            keypoints_data = np.load(file_path)\n",
        "            print(f\"Processing {file_path}...\")\n",
        "\n",
        "            processor = AngleProcessor(keypoints_data)\n",
        "            angles = processor.getAngle()\n",
        "\n",
        "            output_file_name = os.path.basename(file_path).replace('_joint.npy', '_angles.npy')\n",
        "            output_path = os.path.join(angles_folder, output_file_name)\n",
        "            np.save(output_path, angles)\n",
        "\n",
        "            print(f\"Saved angles to {output_path}\")\n",
        "        except Exception as e:\n",
        "            print(f\"Error processing {file_path}: {e}\")\n",
        "\n",
        "process_files(TEST_VP3D_JOINT, TEST_ANGLES)"
      ],
      "metadata": {
        "colab": {
          "base_uri": "https://localhost:8080/"
        },
        "id": "q8OQfcfJlcEB",
        "outputId": "eb7ba2a3-8a27-4af2-eb58-497423c5fce8"
      },
      "execution_count": null,
      "outputs": [
        {
          "output_type": "stream",
          "name": "stdout",
          "text": [
            "Processing /content/drive/MyDrive/CapstoneDesign/test2/VP3D_joint/0_00_joint.npy...\n",
            "Saved angles to /content/drive/MyDrive/CapstoneDesign/test2/angles/0_00_angles.npy\n"
          ]
        }
      ]
    },
    {
      "cell_type": "code",
      "source": [
        "# Labeling\n",
        "import numpy as np\n",
        "\n",
        "label_mapping = {\n",
        "    0: \"Correct Posture\",\n",
        "    1: \"Leaning Forward\",\n",
        "    2: \"Leaning Backward\",\n",
        "    3: \"Excessive Movement\"\n",
        "}\n",
        "\n",
        "def generate_labels(angles_folder, labels_folder):\n",
        "    angles_files = sorted(glob.glob(os.path.join(angles_folder, '*.npy')))\n",
        "\n",
        "    for angles_file in angles_files:\n",
        "        base_name = os.path.basename(angles_file)\n",
        "        label = int(base_name.split('_')[0])\n",
        "\n",
        "        angles_data = np.load(angles_file)\n",
        "        num_frames = angles_data.shape[0]\n",
        "\n",
        "        labels = np.full((num_frames,), label, dtype=np.int32)\n",
        "\n",
        "        label_file_name = base_name.replace('_angles.npy', '_labels.npy')\n",
        "        label_file_path = os.path.join(labels_folder, label_file_name)\n",
        "\n",
        "        np.save(label_file_path, labels)\n",
        "\n",
        "        print(f\"Label file saved: {label_file_path}\")\n",
        "\n",
        "generate_labels(TEST_ANGLES, TEST_LABELS)"
      ],
      "metadata": {
        "id": "-hnQFE5GiZC-",
        "colab": {
          "base_uri": "https://localhost:8080/"
        },
        "outputId": "daa739f4-bc69-40a8-e882-eaaba0585882"
      },
      "execution_count": null,
      "outputs": [
        {
          "output_type": "stream",
          "name": "stdout",
          "text": [
            "Label file saved: /content/drive/MyDrive/CapstoneDesign/test1/labels/0_0_labels.npy\n",
            "Label file saved: /content/drive/MyDrive/CapstoneDesign/test1/labels/1_0_labels.npy\n",
            "Label file saved: /content/drive/MyDrive/CapstoneDesign/test1/labels/2_0_labels.npy\n",
            "Label file saved: /content/drive/MyDrive/CapstoneDesign/test1/labels/3_0_labels.npy\n"
          ]
        }
      ]
    },
    {
      "cell_type": "code",
      "source": [
        "# Merge the video files, angle files and label files\n",
        "import os\n",
        "import glob\n",
        "import numpy as np\n",
        "import cv2\n",
        "\n",
        "def merge_videos_and_data(video_folder, angle_folder, label_folder):\n",
        "\n",
        "    # Find all video files, angle files, and label files\n",
        "    video_files = sorted(glob.glob(os.path.join(video_folder, \"*.mp4\")))\n",
        "    angle_files = sorted(glob.glob(os.path.join(angle_folder, \"*.npy\")))\n",
        "    label_files = sorted(glob.glob(os.path.join(label_folder, \"*.npy\")))\n",
        "\n",
        "    if not (len(video_files) == len(angle_files) == len(label_files)):\n",
        "        raise ValueError(\"The number of videos, angle files, and label files must match.\")\n",
        "\n",
        "    # Combine all angle and label data\n",
        "    combined_angles = []\n",
        "    combined_labels = []\n",
        "\n",
        "    # Prepare for video combination\n",
        "    output_video_path = os.path.join(video_folder, \"merged_video.mp4\")\n",
        "    fourcc = cv2.VideoWriter_fourcc(*'mp4v')\n",
        "    fps = 50\n",
        "    frame_size = None\n",
        "    video_writer = None\n",
        "\n",
        "    for i, (video_file, angle_file, label_file) in enumerate(zip(video_files, angle_files, label_files)):\n",
        "        print(f\"Processing video {i + 1}/{len(video_files)}: {video_file}\")\n",
        "\n",
        "        # Combine angles and labels\n",
        "        angles = np.load(angle_file)\n",
        "        labels = np.load(label_file)\n",
        "        combined_angles.append(angles)\n",
        "        combined_labels.append(labels)\n",
        "\n",
        "        # Read and write video frames\n",
        "        cap = cv2.VideoCapture(video_file)\n",
        "        if not cap.isOpened():\n",
        "            print(f\"Error: Could not open video {video_file}. Skipping.\")\n",
        "            continue\n",
        "\n",
        "        # Initialize video writer with the resolution of the first video\n",
        "        if frame_size is None:\n",
        "            frame_size = (int(cap.get(cv2.CAP_PROP_FRAME_WIDTH)), int(cap.get(cv2.CAP_PROP_FRAME_HEIGHT)))\n",
        "            video_writer = cv2.VideoWriter(output_video_path, fourcc, fps, frame_size)\n",
        "\n",
        "        while True:\n",
        "            ret, frame = cap.read()\n",
        "            if not ret:\n",
        "                break\n",
        "            video_writer.write(frame)\n",
        "\n",
        "        cap.release()\n",
        "\n",
        "    # Release video writer\n",
        "    if video_writer:\n",
        "        video_writer.release()\n",
        "\n",
        "    # Save combined angles and labels\n",
        "    combined_angles = np.concatenate(combined_angles, axis=0)\n",
        "    combined_labels = np.concatenate(combined_labels, axis=0)\n",
        "\n",
        "    np.save(os.path.join(angle_folder, \"merged_angles.npy\"), combined_angles)\n",
        "    np.save(os.path.join(label_folder, \"merged_labels.npy\"), combined_labels)\n",
        "\n",
        "    print(f\"Combined video saved to: {output_video_path}\")\n",
        "    print(f\"Combined angles saved to: {os.path.join(angle_folder, 'merged_angles.npy')}\")\n",
        "    print(f\"Combined labels saved to: {os.path.join(label_folder, 'merged_labels.npy')}\")\n",
        "\n",
        "merge_videos_and_data(TEST_VIDEOS, TEST_ANGLES, TEST_LABELS)"
      ],
      "metadata": {
        "id": "WpIehVk2oc-D",
        "colab": {
          "base_uri": "https://localhost:8080/"
        },
        "outputId": "7530d09e-42ea-4c9a-9ac4-93d6c5e24204"
      },
      "execution_count": null,
      "outputs": [
        {
          "output_type": "stream",
          "name": "stdout",
          "text": [
            "Processing video 1/4: /content/drive/MyDrive/CapstoneDesign/test1/videos/0_0.mp4\n",
            "Processing video 2/4: /content/drive/MyDrive/CapstoneDesign/test1/videos/1_0.mp4\n",
            "Processing video 3/4: /content/drive/MyDrive/CapstoneDesign/test1/videos/2_0.mp4\n",
            "Processing video 4/4: /content/drive/MyDrive/CapstoneDesign/test1/videos/3_0.mp4\n",
            "Combined video saved to: /content/drive/MyDrive/CapstoneDesign/test1/videos/merged_video.mp4\n",
            "Combined angles saved to: /content/drive/MyDrive/CapstoneDesign/test1/angles/merged_angles.npy\n",
            "Combined labels saved to: /content/drive/MyDrive/CapstoneDesign/test1/labels/merged_labels.npy\n"
          ]
        }
      ]
    },
    {
      "cell_type": "code",
      "source": [
        "import torch\n",
        "import torch.nn as nn\n",
        "import torch.optim as optim\n",
        "from torch.utils.data import Dataset, DataLoader\n",
        "import numpy as np\n",
        "from torch.nn.utils.rnn import pad_sequence, pack_padded_sequence, pad_packed_sequence\n",
        "from sklearn.metrics import precision_score, recall_score, f1_score\n",
        "import random\n",
        "\n",
        "# Set seed\n",
        "def set_seed(seed):\n",
        "    torch.manual_seed(seed)\n",
        "    torch.cuda.manual_seed(seed)\n",
        "    torch.cuda.manual_seed_all(seed)\n",
        "    np.random.seed(seed)\n",
        "    random.seed(seed)\n",
        "    torch.backends.cudnn.deterministic = True\n",
        "    torch.backends.cudnn.benchmark = False\n",
        "\n",
        "# Collate function for variable-length sequences\n",
        "def collate_fn(batch):\n",
        "    inputs = [item[0] for item in batch]\n",
        "    targets = [item[1] for item in batch]\n",
        "\n",
        "    # Pad sequences to match the longest one in the batch\n",
        "    padded_inputs = pad_sequence(inputs, batch_first=True)\n",
        "    padded_targets = pad_sequence(targets, batch_first=True, padding_value=-1)\n",
        "\n",
        "    lengths = torch.tensor([len(seq) for seq in inputs], dtype=torch.long)\n",
        "\n",
        "    return padded_inputs, padded_targets, lengths\n",
        "\n",
        "# Define Dataset\n",
        "class PostureDataset(Dataset):\n",
        "    def __init__(self, angles_files, labels_files):\n",
        "        self.angles_files = angles_files\n",
        "        self.labels_files = labels_files\n",
        "\n",
        "    def __len__(self):\n",
        "        return len(self.angles_files)\n",
        "\n",
        "    def __getitem__(self, idx):\n",
        "        angles = np.load(self.angles_files[idx])\n",
        "        labels = np.load(self.labels_files[idx])\n",
        "\n",
        "        angles_tensor = torch.tensor(angles, dtype=torch.float32)\n",
        "        labels_tensor = torch.tensor(labels, dtype=torch.long)\n",
        "\n",
        "        return angles_tensor, labels_tensor\n",
        "\n",
        "# Define LSTM-based model\n",
        "class PostureClassifierRNN(nn.Module):\n",
        "    def __init__(self, input_size=15, hidden_size=64, num_layers=1, num_classes=4):\n",
        "        super(PostureClassifierRNN, self).__init__()\n",
        "        self.lstm = nn.LSTM(input_size, hidden_size, num_layers, batch_first=True)\n",
        "        self.fc = nn.Linear(hidden_size, num_classes)\n",
        "\n",
        "    def forward(self, x, lengths):\n",
        "        # Pack padded sequences\n",
        "        packed_x = pack_padded_sequence(x, lengths.cpu(), batch_first=True, enforce_sorted=False)\n",
        "\n",
        "        # LSTM output\n",
        "        packed_out, _ = self.lstm(packed_x)\n",
        "\n",
        "        # Unpack sequences\n",
        "        lstm_out, _ = pad_packed_sequence(packed_out, batch_first=True)\n",
        "\n",
        "        # Fully connected layer\n",
        "        output = self.fc(lstm_out)\n",
        "\n",
        "        return output\n",
        "\n",
        "# Training function\n",
        "def train_model(model, dataloader, criterion, optimizer, device, num_epochs=10):\n",
        "    model.to(device)\n",
        "\n",
        "    for epoch in range(num_epochs):\n",
        "        model.train()\n",
        "        running_loss = 0.0\n",
        "\n",
        "        for inputs, labels, lengths in dataloader:\n",
        "            inputs = inputs.to(device)\n",
        "            labels = labels.to(device)\n",
        "\n",
        "            optimizer.zero_grad()\n",
        "            outputs = model(inputs, lengths)\n",
        "\n",
        "            outputs = outputs.view(-1, outputs.shape[-1])\n",
        "            labels = labels.view(-1)\n",
        "\n",
        "            loss = criterion(outputs, labels)\n",
        "\n",
        "            loss.backward()\n",
        "            optimizer.step()\n",
        "\n",
        "            running_loss += loss.item()\n",
        "\n",
        "        print(f\"Epoch {epoch + 1}/{num_epochs}, Training Loss: {running_loss / len(dataloader):.4f}\")\n",
        "\n",
        "# Prediction function\n",
        "def predict(model, angle_input, device):\n",
        "    model.eval()\n",
        "    model.to(device)\n",
        "\n",
        "    with torch.no_grad():\n",
        "        lengths = torch.tensor([angle_input.shape[0]], dtype=torch.long)\n",
        "        angle_input = torch.tensor(angle_input, dtype=torch.float32).unsqueeze(0).to(device)\n",
        "\n",
        "        # Forward pass\n",
        "        output = model(angle_input, lengths)\n",
        "        _, predicted = torch.max(output, 2)\n",
        "\n",
        "    return predicted.cpu().numpy().flatten()\n",
        "\n",
        "# Evaluation function\n",
        "def evaluate_model_with_metrics(model, dataloader, criterion, device):\n",
        "    model.eval()\n",
        "    total_loss = 0.0\n",
        "    all_predictions = []\n",
        "    all_labels = []\n",
        "\n",
        "    with torch.no_grad():\n",
        "        for inputs, labels, lengths in dataloader:\n",
        "            inputs = inputs.to(device)\n",
        "            labels = labels.to(device)\n",
        "\n",
        "            output = model(inputs, lengths)\n",
        "\n",
        "            output = output.view(-1, output.shape[-1])\n",
        "            labels = labels.view(-1)\n",
        "\n",
        "            loss = criterion(output, labels)\n",
        "            total_loss += loss.item()\n",
        "\n",
        "            # Save predicted values\n",
        "            _, predicted = torch.max(output, 1)\n",
        "            mask = labels != -1\n",
        "            all_predictions.extend(predicted[mask].cpu().numpy())\n",
        "            all_labels.extend(labels[mask].cpu().numpy())\n",
        "\n",
        "    avg_loss = total_loss / len(dataloader)\n",
        "    accuracy = np.mean(np.array(all_predictions) == np.array(all_labels))\n",
        "    precision = precision_score(all_labels, all_predictions, average='macro', zero_division=0)\n",
        "    recall = recall_score(all_labels, all_predictions, average='macro', zero_division=0)\n",
        "    f1 = f1_score(all_labels, all_predictions, average='macro', zero_division=0)\n",
        "\n",
        "    print(f\"Validation Loss: {avg_loss:.4f}\")\n",
        "    print(f\"Accuracy: {accuracy:.4f}\")\n",
        "    print(f\"Precision: {precision:.4f}\")\n",
        "    print(f\"Recall: {recall:.4f}\")\n",
        "    print(f\"F1 Score: {f1:.4f}\")\n",
        "\n",
        "    return avg_loss, accuracy, precision, recall, f1"
      ],
      "metadata": {
        "id": "f7vCC_c35Q_F"
      },
      "execution_count": null,
      "outputs": []
    },
    {
      "cell_type": "code",
      "source": [
        "# Test and calculate performance measures\n",
        "import os, glob\n",
        "test_angle_files = sorted(glob.glob(f'{TEST_ANGLES}/*.npy'))\n",
        "test_label_files = sorted(glob.glob(f'{TEST_LABELS}/*.npy'))\n",
        "\n",
        "test_dataset = PostureDataset(test_angle_files, test_label_files)\n",
        "test_dataloader = DataLoader(test_dataset, batch_size=4, shuffle=False, collate_fn=collate_fn)\n",
        "\n",
        "device = torch.device('cuda' if torch.cuda.is_available() else 'cpu')\n",
        "criterion = nn.CrossEntropyLoss(ignore_index=-1)\n",
        "\n",
        "model_path = '/content/drive/MyDrive/CapstoneDesign/train/checkpoint/100epochs.pth'\n",
        "model = PostureClassifierRNN(input_size=15, hidden_size=64, num_layers=1, num_classes=4)\n",
        "model.load_state_dict(torch.load(model_path, map_location=device))\n",
        "model.to(device)\n",
        "\n",
        "evaluate_model_with_metrics(model, test_dataloader, criterion, device)"
      ],
      "metadata": {
        "id": "uqggeLL0lTw1",
        "colab": {
          "base_uri": "https://localhost:8080/"
        },
        "outputId": "1b7afd5f-d047-4076-ba33-d660bfcd3629"
      },
      "execution_count": null,
      "outputs": [
        {
          "output_type": "stream",
          "name": "stdout",
          "text": [
            "Validation Loss: 0.3948\n",
            "Accuracy: 0.9150\n",
            "Precision: 0.9181\n",
            "Recall: 0.9130\n",
            "F1 Score: 0.9145\n"
          ]
        },
        {
          "output_type": "stream",
          "name": "stderr",
          "text": [
            "<ipython-input-28-e868a9cf2bf4>:14: FutureWarning: You are using `torch.load` with `weights_only=False` (the current default value), which uses the default pickle module implicitly. It is possible to construct malicious pickle data which will execute arbitrary code during unpickling (See https://github.com/pytorch/pytorch/blob/main/SECURITY.md#untrusted-models for more details). In a future release, the default value for `weights_only` will be flipped to `True`. This limits the functions that could be executed during unpickling. Arbitrary objects will no longer be allowed to be loaded via this mode unless they are explicitly allowlisted by the user via `torch.serialization.add_safe_globals`. We recommend you start setting `weights_only=True` for any use case where you don't have full control of the loaded file. Please open an issue on GitHub for any issues related to this experimental feature.\n",
            "  model.load_state_dict(torch.load(model_path, map_location=device))\n"
          ]
        },
        {
          "output_type": "execute_result",
          "data": {
            "text/plain": [
              "(0.3948272466659546,\n",
              " 0.9150436534586971,\n",
              " 0.9181226076524737,\n",
              " 0.9129683092504073,\n",
              " 0.9144740675317147)"
            ]
          },
          "metadata": {},
          "execution_count": 28
        }
      ]
    },
    {
      "cell_type": "code",
      "source": [
        "import matplotlib.pyplot as plt\n",
        "from sklearn.metrics import confusion_matrix, ConfusionMatrixDisplay, roc_curve, auc\n",
        "import numpy as np\n",
        "\n",
        "def plot_confusion_matrix(y_true, y_pred, classes):\n",
        "    \"\"\"\n",
        "    Plots the confusion matrix.\n",
        "\n",
        "    Args:\n",
        "        y_true (list or np.array): Ground truth labels.\n",
        "        y_pred (list or np.array): Predicted labels.\n",
        "        classes (list): List of class names.\n",
        "    \"\"\"\n",
        "    cm = confusion_matrix(y_true, y_pred)\n",
        "    disp = ConfusionMatrixDisplay(confusion_matrix=cm, display_labels=classes)\n",
        "    disp.plot(cmap=plt.cm.Blues, values_format='d')\n",
        "    plt.title(\"Confusion Matrix\")\n",
        "    plt.show()\n",
        "\n",
        "def plot_roc_curve(y_true, y_pred_proba, num_classes):\n",
        "    \"\"\"\n",
        "    Plots the ROC curve for each class and the macro-average.\n",
        "\n",
        "    Args:\n",
        "        y_true (list or np.array): Ground truth labels.\n",
        "        y_pred_proba (np.array): Predicted probabilities of shape (n_samples, n_classes).\n",
        "        num_classes (int): Number of classes.\n",
        "    \"\"\"\n",
        "    fpr = {}\n",
        "    tpr = {}\n",
        "    roc_auc = {}\n",
        "\n",
        "    # One-hot encode the true labels\n",
        "    y_true_one_hot = np.zeros((len(y_true), num_classes))\n",
        "    y_true_one_hot[np.arange(len(y_true)), y_true] = 1\n",
        "\n",
        "    for i in range(num_classes):\n",
        "        fpr[i], tpr[i], _ = roc_curve(y_true_one_hot[:, i], y_pred_proba[:, i])\n",
        "        roc_auc[i] = auc(fpr[i], tpr[i])\n",
        "\n",
        "    # Macro-average\n",
        "    all_fpr = np.unique(np.concatenate([fpr[i] for i in range(num_classes)]))\n",
        "    mean_tpr = np.zeros_like(all_fpr)\n",
        "    for i in range(num_classes):\n",
        "        mean_tpr += np.interp(all_fpr, fpr[i], tpr[i])\n",
        "\n",
        "    mean_tpr /= num_classes\n",
        "    macro_fpr = all_fpr\n",
        "    macro_tpr = mean_tpr\n",
        "    macro_roc_auc = auc(macro_fpr, macro_tpr)\n",
        "\n",
        "    # Plot ROC curves\n",
        "    plt.figure()\n",
        "    for i in range(num_classes):\n",
        "        plt.plot(fpr[i], tpr[i], label=f\"Class {i} (AUC = {roc_auc[i]:.2f})\")\n",
        "\n",
        "    plt.plot(macro_fpr, macro_tpr, label=f\"Macro-average (AUC = {macro_roc_auc:.2f})\", linestyle='--', color='black')\n",
        "    plt.plot([0, 1], [0, 1], 'k--', label='Random Guess')\n",
        "    plt.xlim([0.0, 1.0])\n",
        "    plt.ylim([0.0, 1.05])\n",
        "    plt.xlabel('False Positive Rate')\n",
        "    plt.ylabel('True Positive Rate')\n",
        "    plt.title('ROC Curve')\n",
        "    plt.legend(loc=\"lower right\")\n",
        "    plt.show()"
      ],
      "metadata": {
        "id": "mRD1O6pBDKEU"
      },
      "execution_count": null,
      "outputs": []
    },
    {
      "cell_type": "code",
      "source": [
        "# Define test dataset and dataloader\n",
        "import os, glob\n",
        "\n",
        "test_angle_files = sorted(glob.glob(f'{TEST_ANGLES}/*.npy'))\n",
        "test_label_files = sorted(glob.glob(f'{TEST_LABELS}/*.npy'))\n",
        "\n",
        "test_dataset = PostureDataset(test_angle_files, test_label_files)\n",
        "test_dataloader = DataLoader(test_dataset, batch_size=4, shuffle=False, collate_fn=collate_fn)\n",
        "\n",
        "# Load model\n",
        "device = torch.device('cuda' if torch.cuda.is_available() else 'cpu')\n",
        "model_path = '/content/drive/MyDrive/CapstoneDesign/train/checkpoint/100epochs.pth'\n",
        "\n",
        "model = PostureClassifierRNN(input_size=15, hidden_size=64, num_layers=1, num_classes=4)\n",
        "model.load_state_dict(torch.load(model_path, map_location=device))\n",
        "model.to(device)\n",
        "\n",
        "# Collect predictions, labels, and probabilities\n",
        "all_predictions = []\n",
        "all_labels = []\n",
        "all_probabilities = []\n",
        "\n",
        "model.eval()\n",
        "with torch.no_grad():\n",
        "    for inputs, labels, lengths in test_dataloader:\n",
        "        inputs = inputs.to(device)\n",
        "        labels = labels.to(device)\n",
        "\n",
        "        outputs = model(inputs, lengths)\n",
        "        probabilities = torch.softmax(outputs, dim=-1)\n",
        "        _, predicted = torch.max(outputs, dim=2)\n",
        "\n",
        "        for i in range(len(inputs)):\n",
        "            valid_indices = lengths[i].item()\n",
        "            all_predictions.extend(predicted[i][:valid_indices].cpu().numpy())\n",
        "            all_labels.extend(labels[i][:valid_indices].cpu().numpy())\n",
        "            all_probabilities.extend(probabilities[i][:valid_indices].cpu().numpy())\n",
        "\n",
        "all_predictions = np.array(all_predictions)\n",
        "all_labels = np.array(all_labels)\n",
        "all_probabilities = np.array(all_probabilities)\n",
        "\n",
        "# Define class names\n",
        "class_names = [\"Correct Posture\", \"Leaning Forward\", \"Leaning Backward\", \"Excessive Movement\"]\n",
        "\n",
        "# Plot Confusion Matrix\n",
        "plt.figure(figsize=(10, 15))\n",
        "plot_confusion_matrix(all_labels, all_predictions, class_names)\n",
        "\n",
        "# Plot ROC Curve\n",
        "plot_roc_curve(all_labels, all_probabilities, num_classes=len(class_names))"
      ],
      "metadata": {
        "colab": {
          "base_uri": "https://localhost:8080/",
          "height": 1000
        },
        "id": "72GnIn1SEXbb",
        "outputId": "b752c263-1b03-4d22-ca8a-d1ee89e34e1d"
      },
      "execution_count": null,
      "outputs": [
        {
          "output_type": "stream",
          "name": "stderr",
          "text": [
            "<ipython-input-21-7c542f385055>:15: FutureWarning: You are using `torch.load` with `weights_only=False` (the current default value), which uses the default pickle module implicitly. It is possible to construct malicious pickle data which will execute arbitrary code during unpickling (See https://github.com/pytorch/pytorch/blob/main/SECURITY.md#untrusted-models for more details). In a future release, the default value for `weights_only` will be flipped to `True`. This limits the functions that could be executed during unpickling. Arbitrary objects will no longer be allowed to be loaded via this mode unless they are explicitly allowlisted by the user via `torch.serialization.add_safe_globals`. We recommend you start setting `weights_only=True` for any use case where you don't have full control of the loaded file. Please open an issue on GitHub for any issues related to this experimental feature.\n",
            "  model.load_state_dict(torch.load(model_path, map_location=device))\n"
          ]
        },
        {
          "output_type": "display_data",
          "data": {
            "text/plain": [
              "<Figure size 1000x1500 with 0 Axes>"
            ]
          },
          "metadata": {}
        },
        {
          "output_type": "display_data",
          "data": {
            "text/plain": [
              "<Figure size 640x480 with 2 Axes>"
            ],
            "image/png": "[encoded data removed]"
          },
          "metadata": {}
        },
        {
          "output_type": "display_data",
          "data": {
            "text/plain": [
              "<Figure size 640x480 with 1 Axes>"
            ],
            "image/png": "[encoded data removed]"
          },
          "metadata": {}
        }
      ]
    },
    {
      "cell_type": "code",
      "source": [
        "from sklearn.metrics import confusion_matrix, classification_report\n",
        "import seaborn as sns\n",
        "\n",
        "print(classification_report(all_labels, all_predictions))\n",
        "\n",
        "conf_matrix = confusion_matrix(all_labels, all_predictions)\n",
        "\n",
        "plt.figure(figsize=(10, 7))\n",
        "sns.heatmap(conf_matrix, annot=True, fmt = 'd', cmap='Blues',\n",
        "            xticklabels=class_names, yticklabels=class_names)\n",
        "plt.xlabel('Predicted Label')\n",
        "plt.ylabel('True Label')"
      ],
      "metadata": {
        "colab": {
          "base_uri": "https://localhost:8080/",
          "height": 843
        },
        "id": "Fun_BsywHMoF",
        "outputId": "12328197-9d20-4a3a-c12c-e6f7a1bf99e4"
      },
      "execution_count": null,
      "outputs": [
        {
          "output_type": "stream",
          "name": "stdout",
          "text": [
            "              precision    recall  f1-score   support\n",
            "\n",
            "           0       0.91      0.96      0.94      1590\n",
            "           1       1.00      0.95      0.98      1474\n",
            "           2       0.84      0.90      0.87      1508\n",
            "           3       0.92      0.84      0.88      1384\n",
            "\n",
            "    accuracy                           0.92      5956\n",
            "   macro avg       0.92      0.91      0.91      5956\n",
            "weighted avg       0.92      0.92      0.92      5956\n",
            "\n"
          ]
        },
        {
          "output_type": "execute_result",
          "data": {
            "text/plain": [
              "Text(95.7222222222222, 0.5, 'True Label')"
            ]
          },
          "metadata": {},
          "execution_count": 20
        },
        {
          "output_type": "display_data",
          "data": {
            "text/plain": [
              "<Figure size 1000x700 with 2 Axes>"
            ],
            "image/png": "[encoded data removed]"
          },
          "metadata": {}
        }
      ]
    },
    {
      "cell_type": "code",
      "source": [
        "# Infer poseture and render video\n",
        "import os\n",
        "import glob\n",
        "import cv2\n",
        "import numpy as np\n",
        "import torch\n",
        "\n",
        "label_mapping = {\n",
        "    0: \"Correct Posture\",\n",
        "    1: \"Leaning Forward\",\n",
        "    2: \"Leaning Backward\",\n",
        "    3: \"Excessive Movement\"\n",
        "}\n",
        "\n",
        "label_colors = {\n",
        "    0: (0, 255, 0),  # Correct Posture -> Green\n",
        "    1: (0, 0, 255),  # Leaning Forward -> Red\n",
        "    2: (0, 0, 255),  # Leaning Backward -> Red\n",
        "    3: (0, 0, 255)   # Excessive Movement -> Red\n",
        "}\n",
        "\n",
        "def render_video_with_posture(video_path, angles_data, predictions, output_path):\n",
        "    cap = cv2.VideoCapture(video_path)\n",
        "    fps = int(cap.get(cv2.CAP_PROP_FPS))\n",
        "    width = int(cap.get(cv2.CAP_PROP_FRAME_WIDTH))\n",
        "    height = int(cap.get(cv2.CAP_PROP_FRAME_HEIGHT))\n",
        "    fourcc = cv2.VideoWriter_fourcc(*'mp4v')\n",
        "    out = cv2.VideoWriter(output_path, fourcc, fps, (width, height))\n",
        "\n",
        "    frame_idx = 0\n",
        "    while cap.isOpened():\n",
        "        ret, frame = cap.read()\n",
        "        if not ret or frame_idx >= len(predictions):\n",
        "            break\n",
        "\n",
        "        label = label_mapping[predictions[frame_idx]]\n",
        "        color = label_colors[predictions[frame_idx]]\n",
        "\n",
        "        cv2.putText(frame, f\"Posture: {label}\", (50, 50),\n",
        "                    cv2.FONT_HERSHEY_SIMPLEX, 1, color, 2, cv2.LINE_AA)\n",
        "\n",
        "        out.write(frame)\n",
        "        frame_idx += 1\n",
        "\n",
        "    cap.release()\n",
        "    out.release()\n",
        "    print(f\"Rendered video saved at {output_path}\")\n",
        "\n",
        "def process_all_files(angles_folder, videos_folder, output_folder, model_path):\n",
        "    angles_files = sorted(glob.glob(os.path.join(angles_folder, '*.npy')))\n",
        "    videos_files = sorted(glob.glob(os.path.join(videos_folder, '*.mp4')))\n",
        "\n",
        "    device = torch.device('cuda' if torch.cuda.is_available() else 'cpu')\n",
        "    model = PostureClassifierRNN(input_size=15)\n",
        "    model.load_state_dict(torch.load(model_path))\n",
        "    model.to(device)\n",
        "\n",
        "    for angles_file, video_file in zip(angles_files, videos_files):\n",
        "        video_name = os.path.basename(video_file)\n",
        "        epoch_name = os.path.splitext(os.path.basename(model_path))[0]\n",
        "        output_video_path = os.path.join(output_folder, f\"{epoch_name}_{video_name}\")\n",
        "\n",
        "        angles_data = np.load(angles_file)\n",
        "\n",
        "        predictions = predict(model, angles_data, device)\n",
        "\n",
        "        render_video_with_posture(video_file, angles_data, predictions, output_video_path)\n",
        "\n",
        "model_path = '/content/drive/MyDrive/CapstoneDesign/train/checkpoint/100epochs.pth'\n",
        "\n",
        "process_all_files(TEST_ANGLES, TEST_VIDEOS, RPC, model_path)"
      ],
      "metadata": {
        "colab": {
          "base_uri": "https://localhost:8080/"
        },
        "id": "NshiDIbOllVk",
        "outputId": "a6d5177e-1c29-42f8-9597-79c67cf491ae"
      },
      "execution_count": null,
      "outputs": [
        {
          "output_type": "stream",
          "name": "stderr",
          "text": [
            "<ipython-input-120-239cf552edd4>:55: FutureWarning: You are using `torch.load` with `weights_only=False` (the current default value), which uses the default pickle module implicitly. It is possible to construct malicious pickle data which will execute arbitrary code during unpickling (See https://github.com/pytorch/pytorch/blob/main/SECURITY.md#untrusted-models for more details). In a future release, the default value for `weights_only` will be flipped to `True`. This limits the functions that could be executed during unpickling. Arbitrary objects will no longer be allowed to be loaded via this mode unless they are explicitly allowlisted by the user via `torch.serialization.add_safe_globals`. We recommend you start setting `weights_only=True` for any use case where you don't have full control of the loaded file. Please open an issue on GitHub for any issues related to this experimental feature.\n",
            "  model.load_state_dict(torch.load(model_path))\n"
          ]
        },
        {
          "output_type": "stream",
          "name": "stdout",
          "text": [
            "Rendered video saved at /content/drive/MyDrive/CapstoneDesign/test1/RPC/100epochs_0_0.mp4\n",
            "Rendered video saved at /content/drive/MyDrive/CapstoneDesign/test1/RPC/100epochs_1_0.mp4\n",
            "Rendered video saved at /content/drive/MyDrive/CapstoneDesign/test1/RPC/100epochs_2_0.mp4\n",
            "Rendered video saved at /content/drive/MyDrive/CapstoneDesign/test1/RPC/100epochs_3_0.mp4\n",
            "Rendered video saved at /content/drive/MyDrive/CapstoneDesign/test1/RPC/100epochs_merged_video.mp4\n"
          ]
        }
      ]
    }
  ]
}
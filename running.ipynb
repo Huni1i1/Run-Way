{
  "nbformat": 4,
  "nbformat_minor": 0,
  "metadata": {
    "colab": {
      "provenance": [],
      "authorship_tag": "ABX9TyNugUnTY5gQIDTBGdtT9tI8",
      "include_colab_link": true
    },
    "kernelspec": {
      "name": "python3",
      "display_name": "Python 3"
    },
    "language_info": {
      "name": "python"
    }
  },
  "cells": [
    {
      "cell_type": "markdown",
      "metadata": {
        "id": "view-in-github",
        "colab_type": "text"
      },
      "source": [
        "<a href=\"https://colab.research.google.com/github/Huni1i1/Running-Posture-Correction-AI/blob/main/running.ipynb\" target=\"_parent\"><img src=\"https://colab.research.google.com/assets/colab-badge.svg\" alt=\"Open In Colab\"/></a>"
      ]
    },
    {
      "cell_type": "markdown",
      "source": [
        "# Running Posture Correction AI"
      ],
      "metadata": {
        "id": "w4lA9adTLlje"
      }
    },
    {
      "cell_type": "markdown",
      "source": [
        "# Environment Setup"
      ],
      "metadata": {
        "id": "Uru70_9gMMq1"
      }
    },
    {
      "cell_type": "code",
      "source": [
        "# Mount Google Drive\n",
        "from google.colab import drive\n",
        "drive.mount('/content/drive')"
      ],
      "metadata": {
        "colab": {
          "base_uri": "https://localhost:8080/"
        },
        "id": "WirF_V0ePfAZ",
        "outputId": "5ae418d5-d669-474a-9ae1-81419ca68b33"
      },
      "execution_count": null,
      "outputs": [
        {
          "output_type": "stream",
          "name": "stdout",
          "text": [
            "Mounted at /content/drive\n"
          ]
        }
      ]
    },
    {
      "cell_type": "code",
      "source": [
        "# Clone RunningPose\n",
        "!git clone https://github.com/TIFX04-22-10/runningpose"
      ],
      "metadata": {
        "colab": {
          "base_uri": "https://localhost:8080/"
        },
        "id": "thTNVXxVRGt-",
        "outputId": "03726ca2-5af1-4c6d-96b8-a7904efd9815"
      },
      "execution_count": null,
      "outputs": [
        {
          "output_type": "stream",
          "name": "stdout",
          "text": [
            "Cloning into 'runningpose'...\n",
            "remote: Enumerating objects: 1441, done.\u001b[K\n",
            "remote: Counting objects: 100% (255/255), done.\u001b[K\n",
            "remote: Compressing objects: 100% (111/111), done.\u001b[K\n",
            "remote: Total 1441 (delta 157), reused 238 (delta 144), pack-reused 1186 (from 1)\u001b[K\n",
            "Receiving objects: 100% (1441/1441), 393.85 MiB | 29.30 MiB/s, done.\n",
            "Resolving deltas: 100% (755/755), done.\n"
          ]
        }
      ]
    },
    {
      "cell_type": "code",
      "source": [
        "# Download Pre-trainde model\n",
        "import gdown\n",
        "file_id = \"1bEPUXcjW7u7oMbeXkLBsnLoDMlnRIt8i\"\n",
        "output = \"runningpose/pretrained_model\"\n",
        "gdown.download(id=file_id, output=output, quiet=False)"
      ],
      "metadata": {
        "colab": {
          "base_uri": "https://localhost:8080/",
          "height": 129
        },
        "id": "3iwmyv_ZYEpw",
        "outputId": "ef589ecb-8572-4431-d33f-461cf1ef71ca"
      },
      "execution_count": null,
      "outputs": [
        {
          "output_type": "stream",
          "name": "stderr",
          "text": [
            "Downloading...\n",
            "From (original): https://drive.google.com/uc?id=1bEPUXcjW7u7oMbeXkLBsnLoDMlnRIt8i\n",
            "From (redirected): https://drive.google.com/uc?id=1bEPUXcjW7u7oMbeXkLBsnLoDMlnRIt8i&confirm=t&uuid=c8b03397-8e39-4fcf-ae11-8c3aad00fbee\n",
            "To: /content/runningpose/pretrained_model\n",
            "100%|██████████| 271M/271M [00:11<00:00, 23.8MB/s]\n"
          ]
        },
        {
          "output_type": "execute_result",
          "data": {
            "text/plain": [
              "'runningpose/pretrained_model'"
            ],
            "application/vnd.google.colaboratory.intrinsic+json": {
              "type": "string"
            }
          },
          "metadata": {},
          "execution_count": 14
        }
      ]
    }
  ]
}